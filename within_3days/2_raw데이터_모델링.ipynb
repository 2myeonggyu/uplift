{
 "cells": [
  {
   "cell_type": "markdown",
   "metadata": {
    "colab_type": "text",
    "id": "wzeWLEqRvcHg"
   },
   "source": [
    "# numerical - EDA (12월 23일 시작~)"
   ]
  },
  {
   "cell_type": "markdown",
   "metadata": {
    "colab_type": "text",
    "id": "6dZMErMWrpoL"
   },
   "source": [
    "# numerical 데이터를 합성해보자 (+, -, *, /)"
   ]
  },
  {
   "cell_type": "code",
   "execution_count": 1,
   "metadata": {
    "colab": {},
    "colab_type": "code",
    "id": "QunGTjQwUYVp"
   },
   "outputs": [],
   "source": [
    "import pandas as pd\n",
    "import numpy as np\n",
    "import seaborn as sns\n",
    "import matplotlib.pyplot as plt\n",
    "\n",
    "import glob\n",
    "import os\n",
    "import scipy\n",
    "\n",
    "%matplotlib inline"
   ]
  },
  {
   "cell_type": "code",
   "execution_count": 3,
   "metadata": {},
   "outputs": [
    {
     "data": {
      "text/plain": [
       "'1.0.1'"
      ]
     },
     "execution_count": 3,
     "metadata": {},
     "output_type": "execute_result"
    }
   ],
   "source": [
    "pd.__version__"
   ]
  },
  {
   "cell_type": "code",
   "execution_count": 4,
   "metadata": {
    "colab": {},
    "colab_type": "code",
    "id": "FhJSNHMnrpoP",
    "outputId": "576005ba-4a32-45d2-8f9a-7f5f3678bb06"
   },
   "outputs": [
    {
     "data": {
      "text/plain": [
       "'1.4.1'"
      ]
     },
     "execution_count": 4,
     "metadata": {},
     "output_type": "execute_result"
    }
   ],
   "source": [
    "scipy.__version__"
   ]
  },
  {
   "cell_type": "code",
   "execution_count": null,
   "metadata": {
    "colab": {},
    "colab_type": "code",
    "id": "7zm1TRwhrpoR",
    "outputId": "8bbc08bb-d42f-4fb5-98a5-cc325c14e3b7"
   },
   "outputs": [],
   "source": [
    "import seaborn as sns\n",
    "import pylift\n",
    "import seaborn"
   ]
  },
  {
   "cell_type": "code",
   "execution_count": 6,
   "metadata": {},
   "outputs": [],
   "source": [
    "from sklearn.model_selection import train_test_split"
   ]
  },
  {
   "cell_type": "code",
   "execution_count": 7,
   "metadata": {},
   "outputs": [],
   "source": [
    "from collections import Counter"
   ]
  },
  {
   "cell_type": "code",
   "execution_count": 8,
   "metadata": {},
   "outputs": [],
   "source": [
    "import featexp"
   ]
  },
  {
   "cell_type": "code",
   "execution_count": 9,
   "metadata": {
    "colab": {
     "base_uri": "https://localhost:8080/",
     "height": 34
    },
    "colab_type": "code",
    "executionInfo": {
     "elapsed": 1024,
     "status": "ok",
     "timestamp": 1577169968440,
     "user": {
      "displayName": "이명규",
      "photoUrl": "",
      "userId": "00414544825750465133"
     },
     "user_tz": -540
    },
    "id": "JVMsKPxEUYVz",
    "outputId": "ebed1a01-5c70-43b9-d8f6-6be25f133387"
   },
   "outputs": [
    {
     "data": {
      "text/plain": [
       "'/mnt/sda1/myeonggyulee/myeonggyulee/uplift/2020_0113'"
      ]
     },
     "execution_count": 9,
     "metadata": {},
     "output_type": "execute_result"
    }
   ],
   "source": [
    "pwd"
   ]
  },
  {
   "cell_type": "markdown",
   "metadata": {
    "colab_type": "text",
    "id": "Er10vVZnV8yt"
   },
   "source": [
    "\n",
    "\n",
    "---\n",
    "\n",
    "\n",
    "\n",
    "---\n",
    "\n"
   ]
  },
  {
   "cell_type": "markdown",
   "metadata": {
    "colab_type": "text",
    "id": "HAlo6ArDWDyH"
   },
   "source": [
    "# 1. 데이터 로드\n",
    "- 전처리된 데이터 : preprocessed_uplift_191223.csv\n"
   ]
  },
  {
   "cell_type": "code",
   "execution_count": 10,
   "metadata": {
    "colab": {},
    "colab_type": "code",
    "id": "Ka8eAunTrpoh"
   },
   "outputs": [],
   "source": [
    "data = pd.read_csv('preprocessed_uplift_191223.csv', index_col = 0)"
   ]
  },
  {
   "cell_type": "code",
   "execution_count": 11,
   "metadata": {
    "colab": {},
    "colab_type": "code",
    "id": "xE_JA_TUrpoi",
    "outputId": "def676e1-95a3-48ef-f843-9de3ef719a6d"
   },
   "outputs": [
    {
     "data": {
      "text/html": [
       "<div>\n",
       "<style scoped>\n",
       "    .dataframe tbody tr th:only-of-type {\n",
       "        vertical-align: middle;\n",
       "    }\n",
       "\n",
       "    .dataframe tbody tr th {\n",
       "        vertical-align: top;\n",
       "    }\n",
       "\n",
       "    .dataframe thead th {\n",
       "        text-align: right;\n",
       "    }\n",
       "</style>\n",
       "<table border=\"1\" class=\"dataframe\">\n",
       "  <thead>\n",
       "    <tr style=\"text-align: right;\">\n",
       "      <th></th>\n",
       "      <th>crm_id</th>\n",
       "      <th>cmpn_nm</th>\n",
       "      <th>m_id</th>\n",
       "      <th>cont_group</th>\n",
       "      <th>start_date</th>\n",
       "      <th>end_date</th>\n",
       "      <th>min_value</th>\n",
       "      <th>max_value</th>\n",
       "      <th>text_yn</th>\n",
       "      <th>push_yn</th>\n",
       "      <th>...</th>\n",
       "      <th>text_mail_wemakepay_bool</th>\n",
       "      <th>birth</th>\n",
       "      <th>click_cnt</th>\n",
       "      <th>search_cnt</th>\n",
       "      <th>download_coupon_cnt</th>\n",
       "      <th>cart_cnt</th>\n",
       "      <th>cart_category_cnt</th>\n",
       "      <th>cart_buy_cnt</th>\n",
       "      <th>uv_cnt</th>\n",
       "      <th>ad_uv_yn</th>\n",
       "    </tr>\n",
       "  </thead>\n",
       "  <tbody>\n",
       "    <tr>\n",
       "      <th>0</th>\n",
       "      <td>33</td>\n",
       "      <td>~3day</td>\n",
       "      <td>1000298</td>\n",
       "      <td>0</td>\n",
       "      <td>2019-11-20</td>\n",
       "      <td>2019-11-20</td>\n",
       "      <td>0</td>\n",
       "      <td>0</td>\n",
       "      <td>1</td>\n",
       "      <td>0</td>\n",
       "      <td>...</td>\n",
       "      <td>0</td>\n",
       "      <td>30</td>\n",
       "      <td>169</td>\n",
       "      <td>84</td>\n",
       "      <td>11</td>\n",
       "      <td>60</td>\n",
       "      <td>11</td>\n",
       "      <td>30</td>\n",
       "      <td>55</td>\n",
       "      <td>1</td>\n",
       "    </tr>\n",
       "    <tr>\n",
       "      <th>1</th>\n",
       "      <td>33</td>\n",
       "      <td>~3day</td>\n",
       "      <td>1000347</td>\n",
       "      <td>1</td>\n",
       "      <td>2019-11-14</td>\n",
       "      <td>2019-11-14</td>\n",
       "      <td>30000</td>\n",
       "      <td>5000</td>\n",
       "      <td>1</td>\n",
       "      <td>0</td>\n",
       "      <td>...</td>\n",
       "      <td>0</td>\n",
       "      <td>30</td>\n",
       "      <td>6</td>\n",
       "      <td>0</td>\n",
       "      <td>0</td>\n",
       "      <td>1</td>\n",
       "      <td>1</td>\n",
       "      <td>2</td>\n",
       "      <td>4</td>\n",
       "      <td>1</td>\n",
       "    </tr>\n",
       "    <tr>\n",
       "      <th>2</th>\n",
       "      <td>33</td>\n",
       "      <td>~3day</td>\n",
       "      <td>1000571</td>\n",
       "      <td>0</td>\n",
       "      <td>2019-11-14</td>\n",
       "      <td>2019-11-14</td>\n",
       "      <td>0</td>\n",
       "      <td>0</td>\n",
       "      <td>1</td>\n",
       "      <td>1</td>\n",
       "      <td>...</td>\n",
       "      <td>0</td>\n",
       "      <td>40</td>\n",
       "      <td>38</td>\n",
       "      <td>22</td>\n",
       "      <td>2</td>\n",
       "      <td>1</td>\n",
       "      <td>1</td>\n",
       "      <td>4</td>\n",
       "      <td>3</td>\n",
       "      <td>1</td>\n",
       "    </tr>\n",
       "    <tr>\n",
       "      <th>3</th>\n",
       "      <td>33</td>\n",
       "      <td>~3day</td>\n",
       "      <td>1001894</td>\n",
       "      <td>1</td>\n",
       "      <td>2019-11-11</td>\n",
       "      <td>2019-11-11</td>\n",
       "      <td>30000</td>\n",
       "      <td>5000</td>\n",
       "      <td>1</td>\n",
       "      <td>0</td>\n",
       "      <td>...</td>\n",
       "      <td>0</td>\n",
       "      <td>30</td>\n",
       "      <td>45</td>\n",
       "      <td>25</td>\n",
       "      <td>1</td>\n",
       "      <td>6</td>\n",
       "      <td>6</td>\n",
       "      <td>5</td>\n",
       "      <td>10</td>\n",
       "      <td>1</td>\n",
       "    </tr>\n",
       "    <tr>\n",
       "      <th>4</th>\n",
       "      <td>33</td>\n",
       "      <td>~3day</td>\n",
       "      <td>1002503</td>\n",
       "      <td>1</td>\n",
       "      <td>2019-11-12</td>\n",
       "      <td>2019-11-12</td>\n",
       "      <td>30000</td>\n",
       "      <td>5000</td>\n",
       "      <td>1</td>\n",
       "      <td>0</td>\n",
       "      <td>...</td>\n",
       "      <td>0</td>\n",
       "      <td>80</td>\n",
       "      <td>122</td>\n",
       "      <td>50</td>\n",
       "      <td>16</td>\n",
       "      <td>112</td>\n",
       "      <td>11</td>\n",
       "      <td>42</td>\n",
       "      <td>56</td>\n",
       "      <td>1</td>\n",
       "    </tr>\n",
       "  </tbody>\n",
       "</table>\n",
       "<p>5 rows × 56 columns</p>\n",
       "</div>"
      ],
      "text/plain": [
       "   crm_id cmpn_nm     m_id  cont_group  start_date    end_date  min_value  \\\n",
       "0      33   ~3day  1000298           0  2019-11-20  2019-11-20          0   \n",
       "1      33   ~3day  1000347           1  2019-11-14  2019-11-14      30000   \n",
       "2      33   ~3day  1000571           0  2019-11-14  2019-11-14          0   \n",
       "3      33   ~3day  1001894           1  2019-11-11  2019-11-11      30000   \n",
       "4      33   ~3day  1002503           1  2019-11-12  2019-11-12      30000   \n",
       "\n",
       "   max_value  text_yn  push_yn  ...  text_mail_wemakepay_bool birth  \\\n",
       "0          0        1        0  ...                         0    30   \n",
       "1       5000        1        0  ...                         0    30   \n",
       "2          0        1        1  ...                         0    40   \n",
       "3       5000        1        0  ...                         0    30   \n",
       "4       5000        1        0  ...                         0    80   \n",
       "\n",
       "   click_cnt  search_cnt  download_coupon_cnt  cart_cnt  cart_category_cnt  \\\n",
       "0        169          84                   11        60                 11   \n",
       "1          6           0                    0         1                  1   \n",
       "2         38          22                    2         1                  1   \n",
       "3         45          25                    1         6                  6   \n",
       "4        122          50                   16       112                 11   \n",
       "\n",
       "   cart_buy_cnt uv_cnt  ad_uv_yn  \n",
       "0            30     55         1  \n",
       "1             2      4         1  \n",
       "2             4      3         1  \n",
       "3             5     10         1  \n",
       "4            42     56         1  \n",
       "\n",
       "[5 rows x 56 columns]"
      ]
     },
     "execution_count": 11,
     "metadata": {},
     "output_type": "execute_result"
    }
   ],
   "source": [
    "data.head()"
   ]
  },
  {
   "cell_type": "code",
   "execution_count": 12,
   "metadata": {},
   "outputs": [
    {
     "data": {
      "text/plain": [
       "(419554, 56)"
      ]
     },
     "execution_count": 12,
     "metadata": {},
     "output_type": "execute_result"
    }
   ],
   "source": [
    "data.shape"
   ]
  },
  {
   "cell_type": "code",
   "execution_count": 13,
   "metadata": {
    "colab": {},
    "colab_type": "code",
    "id": "IeaaWwmTvzfu",
    "outputId": "2beef96e-a588-4a65-c619-8c906190cf4b"
   },
   "outputs": [
    {
     "data": {
      "text/plain": [
       "Index(['crm_id', 'cmpn_nm', 'm_id', 'cont_group', 'start_date', 'end_date',\n",
       "       'min_value', 'max_value', 'text_yn', 'push_yn', 'mail_yn',\n",
       "       'last_buy_date', 'result_buy_yn', 'buy_period', 'buy_cnt_date',\n",
       "       'buy_cnt_payment', 'buy_amount', 'buying_trend', 'buying_trend_group',\n",
       "       'cate_buy_cnt', 'cate_rate', 'coupon_use_rate', 'buy_amount_3day',\n",
       "       'buy_cnt_payment_3day', 'buy_ep_yn_3day', 'buy_amount_avg',\n",
       "       'visit_gubn', 'dt_cnt_last_visit', 'dt_cnt_last_buy', 'last_buy_seg',\n",
       "       'last_buy_platform', 'wmp_pay_yn', 'ratio_spc', 'referral_source',\n",
       "       'referral_flag', 'refund_rate', 'wmp_freq', 'wmp_stay_avg',\n",
       "       'order_route', 'wmp_pick_click', 'rgt_elapsed_days',\n",
       "       'buy_amount_avg_all', 'buy_amount_avg_all_seg', 'rgt_elapsed_days_seg',\n",
       "       'cate_main_buy_', 'text_mail_wemakepay', 'text_mail_wemakepay_bool',\n",
       "       'birth', 'click_cnt', 'search_cnt', 'download_coupon_cnt', 'cart_cnt',\n",
       "       'cart_category_cnt', 'cart_buy_cnt', 'uv_cnt', 'ad_uv_yn'],\n",
       "      dtype='object')"
      ]
     },
     "execution_count": 13,
     "metadata": {},
     "output_type": "execute_result"
    }
   ],
   "source": [
    "data.columns"
   ]
  },
  {
   "cell_type": "code",
   "execution_count": 14,
   "metadata": {
    "colab": {},
    "colab_type": "code",
    "id": "beP_CcqOrpoo",
    "outputId": "f8354ed6-2e2e-428d-d41d-13657f9bdeef"
   },
   "outputs": [
    {
     "name": "stdout",
     "output_type": "stream",
     "text": [
      "<class 'pandas.core.frame.DataFrame'>\n",
      "Int64Index: 419554 entries, 0 to 419553\n",
      "Data columns (total 56 columns):\n",
      " #   Column                    Non-Null Count   Dtype  \n",
      "---  ------                    --------------   -----  \n",
      " 0   crm_id                    419554 non-null  int64  \n",
      " 1   cmpn_nm                   419554 non-null  object \n",
      " 2   m_id                      419554 non-null  int64  \n",
      " 3   cont_group                419554 non-null  int64  \n",
      " 4   start_date                419554 non-null  object \n",
      " 5   end_date                  419554 non-null  object \n",
      " 6   min_value                 419554 non-null  int64  \n",
      " 7   max_value                 419554 non-null  int64  \n",
      " 8   text_yn                   419554 non-null  int64  \n",
      " 9   push_yn                   419554 non-null  int64  \n",
      " 10  mail_yn                   419554 non-null  int64  \n",
      " 11  last_buy_date             419554 non-null  object \n",
      " 12  result_buy_yn             419554 non-null  int64  \n",
      " 13  buy_period                419554 non-null  float64\n",
      " 14  buy_cnt_date              419554 non-null  int64  \n",
      " 15  buy_cnt_payment           419554 non-null  int64  \n",
      " 16  buy_amount                419554 non-null  int64  \n",
      " 17  buying_trend              419554 non-null  float64\n",
      " 18  buying_trend_group        419554 non-null  object \n",
      " 19  cate_buy_cnt              419554 non-null  float64\n",
      " 20  cate_rate                 419554 non-null  float64\n",
      " 21  coupon_use_rate           419554 non-null  int64  \n",
      " 22  buy_amount_3day           419554 non-null  int64  \n",
      " 23  buy_cnt_payment_3day      419554 non-null  int64  \n",
      " 24  buy_ep_yn_3day            419554 non-null  object \n",
      " 25  buy_amount_avg            419554 non-null  float64\n",
      " 26  visit_gubn                419554 non-null  object \n",
      " 27  dt_cnt_last_visit         419554 non-null  float64\n",
      " 28  dt_cnt_last_buy           419554 non-null  float64\n",
      " 29  last_buy_seg              419554 non-null  object \n",
      " 30  last_buy_platform         419554 non-null  object \n",
      " 31  wmp_pay_yn                419554 non-null  int64  \n",
      " 32  ratio_spc                 419554 non-null  float64\n",
      " 33  referral_source           419554 non-null  object \n",
      " 34  referral_flag             419554 non-null  object \n",
      " 35  refund_rate               419554 non-null  int64  \n",
      " 36  wmp_freq                  419554 non-null  float64\n",
      " 37  wmp_stay_avg              419554 non-null  float64\n",
      " 38  order_route               419554 non-null  object \n",
      " 39  wmp_pick_click            419554 non-null  int64  \n",
      " 40  rgt_elapsed_days          419554 non-null  int64  \n",
      " 41  buy_amount_avg_all        419554 non-null  float64\n",
      " 42  buy_amount_avg_all_seg    419554 non-null  int64  \n",
      " 43  rgt_elapsed_days_seg      419554 non-null  int64  \n",
      " 44  cate_main_buy_            419554 non-null  int64  \n",
      " 45  text_mail_wemakepay       419554 non-null  int64  \n",
      " 46  text_mail_wemakepay_bool  419554 non-null  int64  \n",
      " 47  birth                     419554 non-null  int64  \n",
      " 48  click_cnt                 419554 non-null  int64  \n",
      " 49  search_cnt                419554 non-null  int64  \n",
      " 50  download_coupon_cnt       419554 non-null  int64  \n",
      " 51  cart_cnt                  419554 non-null  int64  \n",
      " 52  cart_category_cnt         419554 non-null  int64  \n",
      " 53  cart_buy_cnt              419554 non-null  int64  \n",
      " 54  uv_cnt                    419554 non-null  int64  \n",
      " 55  ad_uv_yn                  419554 non-null  int64  \n",
      "dtypes: float64(11), int64(33), object(12)\n",
      "memory usage: 182.5+ MB\n"
     ]
    }
   ],
   "source": [
    "data.info()"
   ]
  },
  {
   "cell_type": "code",
   "execution_count": 15,
   "metadata": {
    "colab": {},
    "colab_type": "code",
    "id": "PWT8MjJrrpoq",
    "outputId": "99430271-7bc1-4fa6-ab84-879c50e46cf1"
   },
   "outputs": [
    {
     "data": {
      "text/plain": [
       "crm_id                           1\n",
       "cmpn_nm                          1\n",
       "m_id                        411220\n",
       "cont_group                       2\n",
       "start_date                      10\n",
       "end_date                        10\n",
       "min_value                        2\n",
       "max_value                        2\n",
       "text_yn                          2\n",
       "push_yn                          2\n",
       "mail_yn                          2\n",
       "last_buy_date                   14\n",
       "result_buy_yn                    2\n",
       "buy_period                     400\n",
       "buy_cnt_date                   175\n",
       "buy_cnt_payment                324\n",
       "buy_amount                  288765\n",
       "buying_trend                   755\n",
       "buying_trend_group               3\n",
       "cate_buy_cnt                    95\n",
       "cate_rate                       99\n",
       "coupon_use_rate                101\n",
       "buy_amount_3day              19606\n",
       "buy_cnt_payment_3day            12\n",
       "buy_ep_yn_3day                   2\n",
       "buy_amount_avg               95771\n",
       "visit_gubn                       3\n",
       "dt_cnt_last_visit             1295\n",
       "dt_cnt_last_buy               2166\n",
       "last_buy_seg                     3\n",
       "last_buy_platform                3\n",
       "wmp_pay_yn                       2\n",
       "ratio_spc                       11\n",
       "referral_source                364\n",
       "referral_flag                    4\n",
       "refund_rate                    102\n",
       "wmp_freq                       256\n",
       "wmp_stay_avg                   127\n",
       "order_route                      4\n",
       "wmp_pick_click                  73\n",
       "rgt_elapsed_days              3324\n",
       "buy_amount_avg_all          325621\n",
       "buy_amount_avg_all_seg           6\n",
       "rgt_elapsed_days_seg             6\n",
       "cate_main_buy_                  12\n",
       "text_mail_wemakepay              4\n",
       "text_mail_wemakepay_bool         2\n",
       "birth                            7\n",
       "click_cnt                      366\n",
       "search_cnt                     352\n",
       "download_coupon_cnt             88\n",
       "cart_cnt                       311\n",
       "cart_category_cnt               25\n",
       "cart_buy_cnt                   206\n",
       "uv_cnt                         165\n",
       "ad_uv_yn                         2\n",
       "dtype: int64"
      ]
     },
     "execution_count": 15,
     "metadata": {},
     "output_type": "execute_result"
    }
   ],
   "source": [
    "data.nunique()"
   ]
  },
  {
   "cell_type": "code",
   "execution_count": 16,
   "metadata": {
    "colab": {},
    "colab_type": "code",
    "id": "lNpuIp9Irpos",
    "outputId": "852418f8-36f4-402c-a1b7-fc47c29ff5dc"
   },
   "outputs": [
    {
     "data": {
      "text/plain": [
       "crm_id                      0\n",
       "cmpn_nm                     0\n",
       "m_id                        0\n",
       "cont_group                  0\n",
       "start_date                  0\n",
       "end_date                    0\n",
       "min_value                   0\n",
       "max_value                   0\n",
       "text_yn                     0\n",
       "push_yn                     0\n",
       "mail_yn                     0\n",
       "last_buy_date               0\n",
       "result_buy_yn               0\n",
       "buy_period                  0\n",
       "buy_cnt_date                0\n",
       "buy_cnt_payment             0\n",
       "buy_amount                  0\n",
       "buying_trend                0\n",
       "buying_trend_group          0\n",
       "cate_buy_cnt                0\n",
       "cate_rate                   0\n",
       "coupon_use_rate             0\n",
       "buy_amount_3day             0\n",
       "buy_cnt_payment_3day        0\n",
       "buy_ep_yn_3day              0\n",
       "buy_amount_avg              0\n",
       "visit_gubn                  0\n",
       "dt_cnt_last_visit           0\n",
       "dt_cnt_last_buy             0\n",
       "last_buy_seg                0\n",
       "last_buy_platform           0\n",
       "wmp_pay_yn                  0\n",
       "ratio_spc                   0\n",
       "referral_source             0\n",
       "referral_flag               0\n",
       "refund_rate                 0\n",
       "wmp_freq                    0\n",
       "wmp_stay_avg                0\n",
       "order_route                 0\n",
       "wmp_pick_click              0\n",
       "rgt_elapsed_days            0\n",
       "buy_amount_avg_all          0\n",
       "buy_amount_avg_all_seg      0\n",
       "rgt_elapsed_days_seg        0\n",
       "cate_main_buy_              0\n",
       "text_mail_wemakepay         0\n",
       "text_mail_wemakepay_bool    0\n",
       "birth                       0\n",
       "click_cnt                   0\n",
       "search_cnt                  0\n",
       "download_coupon_cnt         0\n",
       "cart_cnt                    0\n",
       "cart_category_cnt           0\n",
       "cart_buy_cnt                0\n",
       "uv_cnt                      0\n",
       "ad_uv_yn                    0\n",
       "dtype: int64"
      ]
     },
     "execution_count": 16,
     "metadata": {},
     "output_type": "execute_result"
    }
   ],
   "source": [
    "data.isnull().sum()"
   ]
  },
  {
   "cell_type": "markdown",
   "metadata": {
    "colab_type": "text",
    "id": "wpFoC763rpou"
   },
   "source": [
    "---"
   ]
  },
  {
   "cell_type": "markdown",
   "metadata": {},
   "source": [
    "---"
   ]
  },
  {
   "cell_type": "markdown",
   "metadata": {},
   "source": [
    "> ## # 실험군/대조군 정보 : 1/0"
   ]
  },
  {
   "cell_type": "code",
   "execution_count": 17,
   "metadata": {},
   "outputs": [
    {
     "data": {
      "text/plain": [
       "0.07654556981937963"
      ]
     },
     "execution_count": 17,
     "metadata": {},
     "output_type": "execute_result"
    }
   ],
   "source": [
    "# raw 데이터, 실험군의 비율\n",
    "data[data.cont_group == 0].shape[0]/data.shape[0]"
   ]
  },
  {
   "cell_type": "markdown",
   "metadata": {},
   "source": [
    "----"
   ]
  },
  {
   "cell_type": "markdown",
   "metadata": {},
   "source": [
    "# # 날짜별 size"
   ]
  },
  {
   "cell_type": "code",
   "execution_count": 18,
   "metadata": {},
   "outputs": [
    {
     "data": {
      "text/plain": [
       "start_date\n",
       "2019-11-11    43746\n",
       "2019-11-12    43607\n",
       "2019-11-13    42318\n",
       "2019-11-14    47531\n",
       "2019-11-15    40873\n",
       "2019-11-18    26350\n",
       "2019-11-19    47219\n",
       "2019-11-20    44299\n",
       "2019-11-21    41976\n",
       "2019-11-22    41635\n",
       "dtype: int64"
      ]
     },
     "execution_count": 18,
     "metadata": {},
     "output_type": "execute_result"
    }
   ],
   "source": [
    "data.groupby('start_date').size()"
   ]
  },
  {
   "cell_type": "code",
   "execution_count": 19,
   "metadata": {},
   "outputs": [
    {
     "data": {
      "text/plain": [
       "start_date\n",
       "2019-11-11    0.104268\n",
       "2019-11-12    0.103937\n",
       "2019-11-13    0.100864\n",
       "2019-11-14    0.113289\n",
       "2019-11-15    0.097420\n",
       "2019-11-18    0.062805\n",
       "2019-11-19    0.112546\n",
       "2019-11-20    0.105586\n",
       "2019-11-21    0.100049\n",
       "2019-11-22    0.099236\n",
       "dtype: float64"
      ]
     },
     "execution_count": 19,
     "metadata": {},
     "output_type": "execute_result"
    }
   ],
   "source": [
    "data.groupby('start_date').size()/data.shape[0] # 21일 전후로 나누자!"
   ]
  },
  {
   "cell_type": "markdown",
   "metadata": {},
   "source": [
    "---"
   ]
  },
  {
   "cell_type": "markdown",
   "metadata": {},
   "source": [
    "> ### 구매비율 차이"
   ]
  },
  {
   "cell_type": "code",
   "execution_count": 22,
   "metadata": {},
   "outputs": [
    {
     "name": "stdout",
     "output_type": "stream",
     "text": [
      "Preprocessed data, trt_buy_ratio : 9.5 %,  size: 36735\n",
      "Preprocessed data, cont_buy_ratio : 9.0 %, size: 2894\n"
     ]
    }
   ],
   "source": [
    "# raw 데이터, 실험군/대조군의 구매비율 - (raw데이터와 조금 다르지만, 차이 양상은 유지돼!)\n",
    "\n",
    "exp_buy = data[(data.cont_group == 1) & (data.result_buy_yn == 1)].shape[0]\n",
    "exp_buy_ratio = data[(data.cont_group == 1) & (data.result_buy_yn == 1)].shape[0]/data[(data.cont_group == 1)].shape[0]\n",
    "\n",
    "cont_buy = data[(data.cont_group == 0) & (data.result_buy_yn == 1)].shape[0]\n",
    "cont_buy_ratio = data[(data.cont_group == 0) & (data.result_buy_yn == 1)].shape[0]/data[(data.cont_group == 0)].shape[0]\n",
    "\n",
    "print( f'Preprocessed data, trt_buy_ratio : {round(exp_buy_ratio, 3)*100} %,  size: {exp_buy}' )\n",
    "print( f'Preprocessed data, cont_buy_ratio : {round(cont_buy_ratio, 3)*100} %, size: {cont_buy}' )"
   ]
  },
  {
   "cell_type": "markdown",
   "metadata": {},
   "source": [
    "---\n",
    "---"
   ]
  },
  {
   "cell_type": "code",
   "execution_count": 23,
   "metadata": {},
   "outputs": [
    {
     "data": {
      "text/plain": [
       "56"
      ]
     },
     "execution_count": 23,
     "metadata": {},
     "output_type": "execute_result"
    }
   ],
   "source": [
    "len(data.columns)"
   ]
  },
  {
   "cell_type": "code",
   "execution_count": 24,
   "metadata": {},
   "outputs": [
    {
     "data": {
      "text/plain": [
       "Index(['crm_id', 'cmpn_nm', 'm_id', 'cont_group', 'start_date', 'end_date',\n",
       "       'min_value', 'max_value', 'text_yn', 'push_yn', 'mail_yn',\n",
       "       'last_buy_date', 'result_buy_yn', 'buy_period', 'buy_cnt_date',\n",
       "       'buy_cnt_payment', 'buy_amount', 'buying_trend', 'buying_trend_group',\n",
       "       'cate_buy_cnt', 'cate_rate', 'coupon_use_rate', 'buy_amount_3day',\n",
       "       'buy_cnt_payment_3day', 'buy_ep_yn_3day', 'buy_amount_avg',\n",
       "       'visit_gubn', 'dt_cnt_last_visit', 'dt_cnt_last_buy', 'last_buy_seg',\n",
       "       'last_buy_platform', 'wmp_pay_yn', 'ratio_spc', 'referral_source',\n",
       "       'referral_flag', 'refund_rate', 'wmp_freq', 'wmp_stay_avg',\n",
       "       'order_route', 'wmp_pick_click', 'rgt_elapsed_days',\n",
       "       'buy_amount_avg_all', 'buy_amount_avg_all_seg', 'rgt_elapsed_days_seg',\n",
       "       'cate_main_buy_', 'text_mail_wemakepay', 'text_mail_wemakepay_bool',\n",
       "       'birth', 'click_cnt', 'search_cnt', 'download_coupon_cnt', 'cart_cnt',\n",
       "       'cart_category_cnt', 'cart_buy_cnt', 'uv_cnt', 'ad_uv_yn'],\n",
       "      dtype='object')"
      ]
     },
     "execution_count": 24,
     "metadata": {},
     "output_type": "execute_result"
    }
   ],
   "source": [
    "data.columns"
   ]
  },
  {
   "cell_type": "code",
   "execution_count": 20,
   "metadata": {
    "colab": {},
    "colab_type": "code",
    "id": "qA7rpTeMxhhd"
   },
   "outputs": [],
   "source": [
    "# 모델링에 사용될 Features 따로 정의한다\n",
    "# cont_group(잠재변수) / result_buy_yn(종속변수)\n",
    "\n",
    "used_features = ['cont_group', 'result_buy_yn', 'text_yn', 'push_yn', 'mail_yn',\n",
    "       'buy_period', 'buy_cnt_date', 'buy_cnt_payment', \n",
    "       'buy_amount', 'buying_trend', 'buying_trend_group',\n",
    "       'cate_buy_cnt', 'cate_rate', 'coupon_use_rate', 'buy_amount_3day',\n",
    "       'buy_cnt_payment_3day', 'buy_ep_yn_3day', 'buy_amount_avg',\n",
    "       'visit_gubn', 'dt_cnt_last_visit', 'dt_cnt_last_buy', 'last_buy_seg',\n",
    "       'last_buy_platform', 'wmp_pay_yn', 'ratio_spc', \n",
    "       'referral_flag', 'refund_rate', 'wmp_freq', 'wmp_stay_avg',\n",
    "       'order_route', 'wmp_pick_click', 'rgt_elapsed_days',\n",
    "       'buy_amount_avg_all', 'buy_amount_avg_all_seg', 'rgt_elapsed_days_seg',\n",
    "       'cate_main_buy_', 'text_mail_wemakepay', 'text_mail_wemakepay_bool',\n",
    "       'birth', 'click_cnt', 'search_cnt', 'download_coupon_cnt', 'cart_cnt',\n",
    "       'cart_category_cnt', 'cart_buy_cnt', 'uv_cnt', 'ad_uv_yn']"
   ]
  },
  {
   "cell_type": "code",
   "execution_count": 21,
   "metadata": {},
   "outputs": [
    {
     "data": {
      "text/plain": [
       "47"
      ]
     },
     "execution_count": 21,
     "metadata": {},
     "output_type": "execute_result"
    }
   ],
   "source": [
    "len(set(used_features))"
   ]
  },
  {
   "cell_type": "code",
   "execution_count": 22,
   "metadata": {},
   "outputs": [
    {
     "data": {
      "text/plain": [
       "{'cmpn_nm',\n",
       " 'crm_id',\n",
       " 'end_date',\n",
       " 'last_buy_date',\n",
       " 'm_id',\n",
       " 'max_value',\n",
       " 'min_value',\n",
       " 'referral_source',\n",
       " 'start_date'}"
      ]
     },
     "execution_count": 22,
     "metadata": {},
     "output_type": "execute_result"
    }
   ],
   "source": [
    "# 맞는지 확인 - 맞다\n",
    "set(data.columns) - set(used_features)"
   ]
  },
  {
   "cell_type": "code",
   "execution_count": 23,
   "metadata": {},
   "outputs": [],
   "source": [
    "cate_features = ['text_yn', 'push_yn', 'mail_yn',\n",
    "       'buying_trend_group', 'buy_ep_yn_3day', 'visit_gubn', 'last_buy_seg',\n",
    "       'last_buy_platform', 'wmp_pay_yn', 'referral_flag', \n",
    "       'order_route', 'buy_amount_avg_all_seg', 'rgt_elapsed_days_seg',\n",
    "       'cate_main_buy_', 'text_mail_wemakepay_bool', 'birth', 'ad_uv_yn']"
   ]
  },
  {
   "cell_type": "code",
   "execution_count": 24,
   "metadata": {},
   "outputs": [
    {
     "data": {
      "text/plain": [
       "17"
      ]
     },
     "execution_count": 24,
     "metadata": {},
     "output_type": "execute_result"
    }
   ],
   "source": [
    "len(cate_features)"
   ]
  },
  {
   "cell_type": "code",
   "execution_count": 25,
   "metadata": {},
   "outputs": [
    {
     "name": "stdout",
     "output_type": "stream",
     "text": [
      "<class 'pandas.core.frame.DataFrame'>\n",
      "Int64Index: 419554 entries, 0 to 419553\n",
      "Data columns (total 17 columns):\n",
      " #   Column                    Non-Null Count   Dtype   \n",
      "---  ------                    --------------   -----   \n",
      " 0   text_yn                   419554 non-null  category\n",
      " 1   push_yn                   419554 non-null  category\n",
      " 2   mail_yn                   419554 non-null  category\n",
      " 3   buying_trend_group        419554 non-null  category\n",
      " 4   buy_ep_yn_3day            419554 non-null  category\n",
      " 5   visit_gubn                419554 non-null  category\n",
      " 6   last_buy_seg              419554 non-null  category\n",
      " 7   last_buy_platform         419554 non-null  category\n",
      " 8   wmp_pay_yn                419554 non-null  category\n",
      " 9   referral_flag             419554 non-null  category\n",
      " 10  order_route               419554 non-null  category\n",
      " 11  buy_amount_avg_all_seg    419554 non-null  category\n",
      " 12  rgt_elapsed_days_seg      419554 non-null  category\n",
      " 13  cate_main_buy_            419554 non-null  category\n",
      " 14  text_mail_wemakepay_bool  419554 non-null  category\n",
      " 15  birth                     419554 non-null  category\n",
      " 16  ad_uv_yn                  419554 non-null  category\n",
      "dtypes: category(17)\n",
      "memory usage: 10.0 MB\n"
     ]
    }
   ],
   "source": [
    "data[cate_features].astype('category').info()"
   ]
  },
  {
   "cell_type": "code",
   "execution_count": 31,
   "metadata": {},
   "outputs": [
    {
     "data": {
      "text/plain": [
       "result_buy_yn  cont_group\n",
       "0              0             0.660895\n",
       "               1             0.659744\n",
       "1              0             0.681410\n",
       "               1             0.698925\n",
       "Name: text_yn, dtype: float64"
      ]
     },
     "execution_count": 31,
     "metadata": {},
     "output_type": "execute_result"
    }
   ],
   "source": [
    "data.groupby(['result_buy_yn', 'cont_group'])['text_yn'].mean()"
   ]
  },
  {
   "cell_type": "code",
   "execution_count": 32,
   "metadata": {},
   "outputs": [
    {
     "data": {
      "text/plain": [
       "result_buy_yn  cont_group\n",
       "0              0             0.650320\n",
       "               1             0.647255\n",
       "1              0             0.659295\n",
       "               1             0.670587\n",
       "Name: mail_yn, dtype: float64"
      ]
     },
     "execution_count": 32,
     "metadata": {},
     "output_type": "execute_result"
    }
   ],
   "source": [
    "data.groupby(['result_buy_yn', 'cont_group'])['mail_yn'].mean()"
   ]
  },
  {
   "cell_type": "code",
   "execution_count": 33,
   "metadata": {},
   "outputs": [
    {
     "data": {
      "text/plain": [
       "result_buy_yn  cont_group\n",
       "0              0             0.339345\n",
       "               1             0.344561\n",
       "1              0             0.440567\n",
       "               1             0.419709\n",
       "Name: push_yn, dtype: float64"
      ]
     },
     "execution_count": 33,
     "metadata": {},
     "output_type": "execute_result"
    }
   ],
   "source": [
    "data.groupby(['result_buy_yn', 'cont_group'])['push_yn'].mean()"
   ]
  },
  {
   "cell_type": "code",
   "execution_count": 34,
   "metadata": {},
   "outputs": [
    {
     "data": {
      "text/plain": [
       "result_buy_yn  cont_group\n",
       "0              0             0.085076\n",
       "               1             0.084473\n",
       "1              0             0.096752\n",
       "               1             0.098789\n",
       "Name: wmp_pay_yn, dtype: float64"
      ]
     },
     "execution_count": 34,
     "metadata": {},
     "output_type": "execute_result"
    }
   ],
   "source": [
    "data.groupby(['result_buy_yn', 'cont_group'])['wmp_pay_yn'].mean()"
   ]
  },
  {
   "cell_type": "code",
   "execution_count": 35,
   "metadata": {},
   "outputs": [
    {
     "data": {
      "text/html": [
       "<div>\n",
       "<style scoped>\n",
       "    .dataframe tbody tr th:only-of-type {\n",
       "        vertical-align: middle;\n",
       "    }\n",
       "\n",
       "    .dataframe tbody tr th {\n",
       "        vertical-align: top;\n",
       "    }\n",
       "\n",
       "    .dataframe thead th {\n",
       "        text-align: right;\n",
       "    }\n",
       "</style>\n",
       "<table border=\"1\" class=\"dataframe\">\n",
       "  <thead>\n",
       "    <tr style=\"text-align: right;\">\n",
       "      <th></th>\n",
       "      <th>text_yn</th>\n",
       "      <th>push_yn</th>\n",
       "      <th>mail_yn</th>\n",
       "      <th>wmp_pay_yn</th>\n",
       "      <th>text_mail_wemakepay</th>\n",
       "    </tr>\n",
       "  </thead>\n",
       "  <tbody>\n",
       "    <tr>\n",
       "      <th>0</th>\n",
       "      <td>1</td>\n",
       "      <td>0</td>\n",
       "      <td>1</td>\n",
       "      <td>0</td>\n",
       "      <td>2</td>\n",
       "    </tr>\n",
       "    <tr>\n",
       "      <th>1</th>\n",
       "      <td>1</td>\n",
       "      <td>0</td>\n",
       "      <td>1</td>\n",
       "      <td>0</td>\n",
       "      <td>2</td>\n",
       "    </tr>\n",
       "    <tr>\n",
       "      <th>2</th>\n",
       "      <td>1</td>\n",
       "      <td>1</td>\n",
       "      <td>1</td>\n",
       "      <td>0</td>\n",
       "      <td>2</td>\n",
       "    </tr>\n",
       "    <tr>\n",
       "      <th>3</th>\n",
       "      <td>1</td>\n",
       "      <td>0</td>\n",
       "      <td>1</td>\n",
       "      <td>0</td>\n",
       "      <td>2</td>\n",
       "    </tr>\n",
       "    <tr>\n",
       "      <th>4</th>\n",
       "      <td>1</td>\n",
       "      <td>0</td>\n",
       "      <td>1</td>\n",
       "      <td>0</td>\n",
       "      <td>2</td>\n",
       "    </tr>\n",
       "    <tr>\n",
       "      <th>5</th>\n",
       "      <td>1</td>\n",
       "      <td>0</td>\n",
       "      <td>1</td>\n",
       "      <td>0</td>\n",
       "      <td>2</td>\n",
       "    </tr>\n",
       "    <tr>\n",
       "      <th>6</th>\n",
       "      <td>1</td>\n",
       "      <td>0</td>\n",
       "      <td>1</td>\n",
       "      <td>0</td>\n",
       "      <td>2</td>\n",
       "    </tr>\n",
       "    <tr>\n",
       "      <th>7</th>\n",
       "      <td>0</td>\n",
       "      <td>0</td>\n",
       "      <td>1</td>\n",
       "      <td>0</td>\n",
       "      <td>1</td>\n",
       "    </tr>\n",
       "    <tr>\n",
       "      <th>8</th>\n",
       "      <td>1</td>\n",
       "      <td>0</td>\n",
       "      <td>1</td>\n",
       "      <td>0</td>\n",
       "      <td>2</td>\n",
       "    </tr>\n",
       "    <tr>\n",
       "      <th>9</th>\n",
       "      <td>0</td>\n",
       "      <td>0</td>\n",
       "      <td>0</td>\n",
       "      <td>0</td>\n",
       "      <td>0</td>\n",
       "    </tr>\n",
       "  </tbody>\n",
       "</table>\n",
       "</div>"
      ],
      "text/plain": [
       "   text_yn  push_yn  mail_yn  wmp_pay_yn  text_mail_wemakepay\n",
       "0        1        0        1           0                    2\n",
       "1        1        0        1           0                    2\n",
       "2        1        1        1           0                    2\n",
       "3        1        0        1           0                    2\n",
       "4        1        0        1           0                    2\n",
       "5        1        0        1           0                    2\n",
       "6        1        0        1           0                    2\n",
       "7        0        0        1           0                    1\n",
       "8        1        0        1           0                    2\n",
       "9        0        0        0           0                    0"
      ]
     },
     "execution_count": 35,
     "metadata": {},
     "output_type": "execute_result"
    }
   ],
   "source": [
    "data[['text_yn', 'push_yn', 'mail_yn', 'wmp_pay_yn', 'text_mail_wemakepay']].head(10)"
   ]
  },
  {
   "cell_type": "code",
   "execution_count": 36,
   "metadata": {},
   "outputs": [
    {
     "data": {
      "text/plain": [
       "result_buy_yn  cont_group\n",
       "0              0             0.048595\n",
       "               1             0.047219\n",
       "1              0             0.054596\n",
       "               1             0.059045\n",
       "Name: text_mail_wemakepay_bool, dtype: float64"
      ]
     },
     "execution_count": 36,
     "metadata": {},
     "output_type": "execute_result"
    }
   ],
   "source": [
    "data.groupby(['result_buy_yn', 'cont_group'])['text_mail_wemakepay_bool'].mean()"
   ]
  },
  {
   "cell_type": "code",
   "execution_count": 37,
   "metadata": {},
   "outputs": [
    {
     "data": {
      "text/plain": [
       "result_buy_yn  cont_group\n",
       "0              0             1.396290\n",
       "               1             1.391473\n",
       "1              0             1.437457\n",
       "               1             1.468300\n",
       "Name: text_mail_wemakepay, dtype: float64"
      ]
     },
     "execution_count": 37,
     "metadata": {},
     "output_type": "execute_result"
    }
   ],
   "source": [
    "data.groupby(['result_buy_yn', 'cont_group'])['text_mail_wemakepay'].mean()"
   ]
  },
  {
   "cell_type": "code",
   "execution_count": 38,
   "metadata": {},
   "outputs": [
    {
     "data": {
      "text/html": [
       "<div>\n",
       "<style scoped>\n",
       "    .dataframe tbody tr th:only-of-type {\n",
       "        vertical-align: middle;\n",
       "    }\n",
       "\n",
       "    .dataframe tbody tr th {\n",
       "        vertical-align: top;\n",
       "    }\n",
       "\n",
       "    .dataframe thead th {\n",
       "        text-align: right;\n",
       "    }\n",
       "</style>\n",
       "<table border=\"1\" class=\"dataframe\">\n",
       "  <thead>\n",
       "    <tr style=\"text-align: right;\">\n",
       "      <th></th>\n",
       "      <th>text_yn_0</th>\n",
       "      <th>text_yn_1</th>\n",
       "      <th>push_yn_0</th>\n",
       "      <th>push_yn_1</th>\n",
       "      <th>mail_yn_0</th>\n",
       "      <th>mail_yn_1</th>\n",
       "      <th>buying_trend_group_long</th>\n",
       "      <th>buying_trend_group_short</th>\n",
       "      <th>buying_trend_group_stable</th>\n",
       "      <th>buy_ep_yn_3day_N</th>\n",
       "      <th>buy_ep_yn_3day_Y</th>\n",
       "      <th>visit_gubn_N</th>\n",
       "      <th>visit_gubn_O</th>\n",
       "      <th>visit_gubn_R</th>\n",
       "      <th>last_buy_seg_D-1</th>\n",
       "      <th>last_buy_seg_D-2</th>\n",
       "      <th>last_buy_seg_D-3</th>\n",
       "      <th>last_buy_platform_APP</th>\n",
       "      <th>last_buy_platform_MWEB</th>\n",
       "      <th>last_buy_platform_PC</th>\n",
       "      <th>wmp_pay_yn_0</th>\n",
       "      <th>wmp_pay_yn_1</th>\n",
       "      <th>referral_flag_direct</th>\n",
       "      <th>referral_flag_inside</th>\n",
       "      <th>referral_flag_not set</th>\n",
       "      <th>referral_flag_outside</th>\n",
       "      <th>order_route_best</th>\n",
       "      <th>order_route_else</th>\n",
       "      <th>order_route_special</th>\n",
       "      <th>order_route_wmp_pick</th>\n",
       "      <th>buy_amount_avg_all_seg_0</th>\n",
       "      <th>buy_amount_avg_all_seg_1</th>\n",
       "      <th>buy_amount_avg_all_seg_2</th>\n",
       "      <th>buy_amount_avg_all_seg_3</th>\n",
       "      <th>buy_amount_avg_all_seg_4</th>\n",
       "      <th>buy_amount_avg_all_seg_5</th>\n",
       "      <th>rgt_elapsed_days_seg_0</th>\n",
       "      <th>rgt_elapsed_days_seg_1</th>\n",
       "      <th>rgt_elapsed_days_seg_2</th>\n",
       "      <th>rgt_elapsed_days_seg_3</th>\n",
       "      <th>rgt_elapsed_days_seg_4</th>\n",
       "      <th>rgt_elapsed_days_seg_5</th>\n",
       "      <th>cate_main_buy__0</th>\n",
       "      <th>cate_main_buy__1</th>\n",
       "      <th>cate_main_buy__2</th>\n",
       "      <th>cate_main_buy__3</th>\n",
       "      <th>cate_main_buy__4</th>\n",
       "      <th>cate_main_buy__5</th>\n",
       "      <th>cate_main_buy__6</th>\n",
       "      <th>cate_main_buy__7</th>\n",
       "      <th>cate_main_buy__8</th>\n",
       "      <th>cate_main_buy__9</th>\n",
       "      <th>cate_main_buy__10</th>\n",
       "      <th>cate_main_buy__11</th>\n",
       "      <th>text_mail_wemakepay_bool_0</th>\n",
       "      <th>text_mail_wemakepay_bool_1</th>\n",
       "      <th>birth_10</th>\n",
       "      <th>birth_20</th>\n",
       "      <th>birth_30</th>\n",
       "      <th>birth_40</th>\n",
       "      <th>birth_50</th>\n",
       "      <th>birth_60</th>\n",
       "      <th>birth_80</th>\n",
       "      <th>ad_uv_yn_0</th>\n",
       "      <th>ad_uv_yn_1</th>\n",
       "    </tr>\n",
       "  </thead>\n",
       "  <tbody>\n",
       "    <tr>\n",
       "      <th>0</th>\n",
       "      <td>0</td>\n",
       "      <td>1</td>\n",
       "      <td>1</td>\n",
       "      <td>0</td>\n",
       "      <td>0</td>\n",
       "      <td>1</td>\n",
       "      <td>0</td>\n",
       "      <td>0</td>\n",
       "      <td>1</td>\n",
       "      <td>1</td>\n",
       "      <td>0</td>\n",
       "      <td>0</td>\n",
       "      <td>1</td>\n",
       "      <td>0</td>\n",
       "      <td>0</td>\n",
       "      <td>1</td>\n",
       "      <td>0</td>\n",
       "      <td>1</td>\n",
       "      <td>0</td>\n",
       "      <td>0</td>\n",
       "      <td>1</td>\n",
       "      <td>0</td>\n",
       "      <td>0</td>\n",
       "      <td>0</td>\n",
       "      <td>0</td>\n",
       "      <td>1</td>\n",
       "      <td>1</td>\n",
       "      <td>0</td>\n",
       "      <td>0</td>\n",
       "      <td>0</td>\n",
       "      <td>0</td>\n",
       "      <td>1</td>\n",
       "      <td>0</td>\n",
       "      <td>0</td>\n",
       "      <td>0</td>\n",
       "      <td>0</td>\n",
       "      <td>0</td>\n",
       "      <td>0</td>\n",
       "      <td>0</td>\n",
       "      <td>0</td>\n",
       "      <td>0</td>\n",
       "      <td>1</td>\n",
       "      <td>0</td>\n",
       "      <td>0</td>\n",
       "      <td>0</td>\n",
       "      <td>1</td>\n",
       "      <td>0</td>\n",
       "      <td>0</td>\n",
       "      <td>0</td>\n",
       "      <td>0</td>\n",
       "      <td>0</td>\n",
       "      <td>0</td>\n",
       "      <td>0</td>\n",
       "      <td>0</td>\n",
       "      <td>1</td>\n",
       "      <td>0</td>\n",
       "      <td>0</td>\n",
       "      <td>0</td>\n",
       "      <td>1</td>\n",
       "      <td>0</td>\n",
       "      <td>0</td>\n",
       "      <td>0</td>\n",
       "      <td>0</td>\n",
       "      <td>0</td>\n",
       "      <td>1</td>\n",
       "    </tr>\n",
       "    <tr>\n",
       "      <th>1</th>\n",
       "      <td>0</td>\n",
       "      <td>1</td>\n",
       "      <td>1</td>\n",
       "      <td>0</td>\n",
       "      <td>0</td>\n",
       "      <td>1</td>\n",
       "      <td>0</td>\n",
       "      <td>0</td>\n",
       "      <td>1</td>\n",
       "      <td>0</td>\n",
       "      <td>1</td>\n",
       "      <td>0</td>\n",
       "      <td>0</td>\n",
       "      <td>1</td>\n",
       "      <td>1</td>\n",
       "      <td>0</td>\n",
       "      <td>0</td>\n",
       "      <td>0</td>\n",
       "      <td>1</td>\n",
       "      <td>0</td>\n",
       "      <td>1</td>\n",
       "      <td>0</td>\n",
       "      <td>0</td>\n",
       "      <td>0</td>\n",
       "      <td>0</td>\n",
       "      <td>1</td>\n",
       "      <td>0</td>\n",
       "      <td>1</td>\n",
       "      <td>0</td>\n",
       "      <td>0</td>\n",
       "      <td>0</td>\n",
       "      <td>1</td>\n",
       "      <td>0</td>\n",
       "      <td>0</td>\n",
       "      <td>0</td>\n",
       "      <td>0</td>\n",
       "      <td>0</td>\n",
       "      <td>0</td>\n",
       "      <td>0</td>\n",
       "      <td>0</td>\n",
       "      <td>0</td>\n",
       "      <td>1</td>\n",
       "      <td>0</td>\n",
       "      <td>0</td>\n",
       "      <td>0</td>\n",
       "      <td>0</td>\n",
       "      <td>0</td>\n",
       "      <td>0</td>\n",
       "      <td>0</td>\n",
       "      <td>0</td>\n",
       "      <td>0</td>\n",
       "      <td>0</td>\n",
       "      <td>0</td>\n",
       "      <td>1</td>\n",
       "      <td>1</td>\n",
       "      <td>0</td>\n",
       "      <td>0</td>\n",
       "      <td>0</td>\n",
       "      <td>1</td>\n",
       "      <td>0</td>\n",
       "      <td>0</td>\n",
       "      <td>0</td>\n",
       "      <td>0</td>\n",
       "      <td>0</td>\n",
       "      <td>1</td>\n",
       "    </tr>\n",
       "    <tr>\n",
       "      <th>2</th>\n",
       "      <td>0</td>\n",
       "      <td>1</td>\n",
       "      <td>0</td>\n",
       "      <td>1</td>\n",
       "      <td>0</td>\n",
       "      <td>1</td>\n",
       "      <td>1</td>\n",
       "      <td>0</td>\n",
       "      <td>0</td>\n",
       "      <td>1</td>\n",
       "      <td>0</td>\n",
       "      <td>0</td>\n",
       "      <td>1</td>\n",
       "      <td>0</td>\n",
       "      <td>1</td>\n",
       "      <td>0</td>\n",
       "      <td>0</td>\n",
       "      <td>1</td>\n",
       "      <td>0</td>\n",
       "      <td>0</td>\n",
       "      <td>1</td>\n",
       "      <td>0</td>\n",
       "      <td>0</td>\n",
       "      <td>1</td>\n",
       "      <td>0</td>\n",
       "      <td>0</td>\n",
       "      <td>0</td>\n",
       "      <td>1</td>\n",
       "      <td>0</td>\n",
       "      <td>0</td>\n",
       "      <td>0</td>\n",
       "      <td>1</td>\n",
       "      <td>0</td>\n",
       "      <td>0</td>\n",
       "      <td>0</td>\n",
       "      <td>0</td>\n",
       "      <td>0</td>\n",
       "      <td>0</td>\n",
       "      <td>0</td>\n",
       "      <td>0</td>\n",
       "      <td>0</td>\n",
       "      <td>1</td>\n",
       "      <td>0</td>\n",
       "      <td>0</td>\n",
       "      <td>0</td>\n",
       "      <td>0</td>\n",
       "      <td>0</td>\n",
       "      <td>0</td>\n",
       "      <td>0</td>\n",
       "      <td>0</td>\n",
       "      <td>0</td>\n",
       "      <td>0</td>\n",
       "      <td>0</td>\n",
       "      <td>1</td>\n",
       "      <td>1</td>\n",
       "      <td>0</td>\n",
       "      <td>0</td>\n",
       "      <td>0</td>\n",
       "      <td>0</td>\n",
       "      <td>1</td>\n",
       "      <td>0</td>\n",
       "      <td>0</td>\n",
       "      <td>0</td>\n",
       "      <td>0</td>\n",
       "      <td>1</td>\n",
       "    </tr>\n",
       "    <tr>\n",
       "      <th>3</th>\n",
       "      <td>0</td>\n",
       "      <td>1</td>\n",
       "      <td>1</td>\n",
       "      <td>0</td>\n",
       "      <td>0</td>\n",
       "      <td>1</td>\n",
       "      <td>0</td>\n",
       "      <td>1</td>\n",
       "      <td>0</td>\n",
       "      <td>1</td>\n",
       "      <td>0</td>\n",
       "      <td>0</td>\n",
       "      <td>1</td>\n",
       "      <td>0</td>\n",
       "      <td>0</td>\n",
       "      <td>0</td>\n",
       "      <td>1</td>\n",
       "      <td>1</td>\n",
       "      <td>0</td>\n",
       "      <td>0</td>\n",
       "      <td>1</td>\n",
       "      <td>0</td>\n",
       "      <td>1</td>\n",
       "      <td>0</td>\n",
       "      <td>0</td>\n",
       "      <td>0</td>\n",
       "      <td>0</td>\n",
       "      <td>1</td>\n",
       "      <td>0</td>\n",
       "      <td>0</td>\n",
       "      <td>0</td>\n",
       "      <td>1</td>\n",
       "      <td>0</td>\n",
       "      <td>0</td>\n",
       "      <td>0</td>\n",
       "      <td>0</td>\n",
       "      <td>0</td>\n",
       "      <td>0</td>\n",
       "      <td>0</td>\n",
       "      <td>0</td>\n",
       "      <td>0</td>\n",
       "      <td>1</td>\n",
       "      <td>0</td>\n",
       "      <td>0</td>\n",
       "      <td>1</td>\n",
       "      <td>0</td>\n",
       "      <td>0</td>\n",
       "      <td>0</td>\n",
       "      <td>0</td>\n",
       "      <td>0</td>\n",
       "      <td>0</td>\n",
       "      <td>0</td>\n",
       "      <td>0</td>\n",
       "      <td>0</td>\n",
       "      <td>1</td>\n",
       "      <td>0</td>\n",
       "      <td>0</td>\n",
       "      <td>0</td>\n",
       "      <td>1</td>\n",
       "      <td>0</td>\n",
       "      <td>0</td>\n",
       "      <td>0</td>\n",
       "      <td>0</td>\n",
       "      <td>0</td>\n",
       "      <td>1</td>\n",
       "    </tr>\n",
       "    <tr>\n",
       "      <th>4</th>\n",
       "      <td>0</td>\n",
       "      <td>1</td>\n",
       "      <td>1</td>\n",
       "      <td>0</td>\n",
       "      <td>0</td>\n",
       "      <td>1</td>\n",
       "      <td>0</td>\n",
       "      <td>0</td>\n",
       "      <td>1</td>\n",
       "      <td>1</td>\n",
       "      <td>0</td>\n",
       "      <td>0</td>\n",
       "      <td>1</td>\n",
       "      <td>0</td>\n",
       "      <td>1</td>\n",
       "      <td>0</td>\n",
       "      <td>0</td>\n",
       "      <td>0</td>\n",
       "      <td>0</td>\n",
       "      <td>1</td>\n",
       "      <td>1</td>\n",
       "      <td>0</td>\n",
       "      <td>0</td>\n",
       "      <td>0</td>\n",
       "      <td>0</td>\n",
       "      <td>1</td>\n",
       "      <td>0</td>\n",
       "      <td>0</td>\n",
       "      <td>1</td>\n",
       "      <td>0</td>\n",
       "      <td>0</td>\n",
       "      <td>1</td>\n",
       "      <td>0</td>\n",
       "      <td>0</td>\n",
       "      <td>0</td>\n",
       "      <td>0</td>\n",
       "      <td>0</td>\n",
       "      <td>0</td>\n",
       "      <td>0</td>\n",
       "      <td>0</td>\n",
       "      <td>0</td>\n",
       "      <td>1</td>\n",
       "      <td>0</td>\n",
       "      <td>0</td>\n",
       "      <td>0</td>\n",
       "      <td>1</td>\n",
       "      <td>0</td>\n",
       "      <td>0</td>\n",
       "      <td>0</td>\n",
       "      <td>0</td>\n",
       "      <td>0</td>\n",
       "      <td>0</td>\n",
       "      <td>0</td>\n",
       "      <td>0</td>\n",
       "      <td>1</td>\n",
       "      <td>0</td>\n",
       "      <td>0</td>\n",
       "      <td>0</td>\n",
       "      <td>0</td>\n",
       "      <td>0</td>\n",
       "      <td>0</td>\n",
       "      <td>0</td>\n",
       "      <td>1</td>\n",
       "      <td>0</td>\n",
       "      <td>1</td>\n",
       "    </tr>\n",
       "  </tbody>\n",
       "</table>\n",
       "</div>"
      ],
      "text/plain": [
       "   text_yn_0  text_yn_1  push_yn_0  push_yn_1  mail_yn_0  mail_yn_1  \\\n",
       "0          0          1          1          0          0          1   \n",
       "1          0          1          1          0          0          1   \n",
       "2          0          1          0          1          0          1   \n",
       "3          0          1          1          0          0          1   \n",
       "4          0          1          1          0          0          1   \n",
       "\n",
       "   buying_trend_group_long  buying_trend_group_short  \\\n",
       "0                        0                         0   \n",
       "1                        0                         0   \n",
       "2                        1                         0   \n",
       "3                        0                         1   \n",
       "4                        0                         0   \n",
       "\n",
       "   buying_trend_group_stable  buy_ep_yn_3day_N  buy_ep_yn_3day_Y  \\\n",
       "0                          1                 1                 0   \n",
       "1                          1                 0                 1   \n",
       "2                          0                 1                 0   \n",
       "3                          0                 1                 0   \n",
       "4                          1                 1                 0   \n",
       "\n",
       "   visit_gubn_N  visit_gubn_O  visit_gubn_R  last_buy_seg_D-1  \\\n",
       "0             0             1             0                 0   \n",
       "1             0             0             1                 1   \n",
       "2             0             1             0                 1   \n",
       "3             0             1             0                 0   \n",
       "4             0             1             0                 1   \n",
       "\n",
       "   last_buy_seg_D-2  last_buy_seg_D-3  last_buy_platform_APP  \\\n",
       "0                 1                 0                      1   \n",
       "1                 0                 0                      0   \n",
       "2                 0                 0                      1   \n",
       "3                 0                 1                      1   \n",
       "4                 0                 0                      0   \n",
       "\n",
       "   last_buy_platform_MWEB  last_buy_platform_PC  wmp_pay_yn_0  wmp_pay_yn_1  \\\n",
       "0                       0                     0             1             0   \n",
       "1                       1                     0             1             0   \n",
       "2                       0                     0             1             0   \n",
       "3                       0                     0             1             0   \n",
       "4                       0                     1             1             0   \n",
       "\n",
       "   referral_flag_direct  referral_flag_inside  referral_flag_not set  \\\n",
       "0                     0                     0                      0   \n",
       "1                     0                     0                      0   \n",
       "2                     0                     1                      0   \n",
       "3                     1                     0                      0   \n",
       "4                     0                     0                      0   \n",
       "\n",
       "   referral_flag_outside  order_route_best  order_route_else  \\\n",
       "0                      1                 1                 0   \n",
       "1                      1                 0                 1   \n",
       "2                      0                 0                 1   \n",
       "3                      0                 0                 1   \n",
       "4                      1                 0                 0   \n",
       "\n",
       "   order_route_special  order_route_wmp_pick  buy_amount_avg_all_seg_0  \\\n",
       "0                    0                     0                         0   \n",
       "1                    0                     0                         0   \n",
       "2                    0                     0                         0   \n",
       "3                    0                     0                         0   \n",
       "4                    1                     0                         0   \n",
       "\n",
       "   buy_amount_avg_all_seg_1  buy_amount_avg_all_seg_2  \\\n",
       "0                         1                         0   \n",
       "1                         1                         0   \n",
       "2                         1                         0   \n",
       "3                         1                         0   \n",
       "4                         1                         0   \n",
       "\n",
       "   buy_amount_avg_all_seg_3  buy_amount_avg_all_seg_4  \\\n",
       "0                         0                         0   \n",
       "1                         0                         0   \n",
       "2                         0                         0   \n",
       "3                         0                         0   \n",
       "4                         0                         0   \n",
       "\n",
       "   buy_amount_avg_all_seg_5  rgt_elapsed_days_seg_0  rgt_elapsed_days_seg_1  \\\n",
       "0                         0                       0                       0   \n",
       "1                         0                       0                       0   \n",
       "2                         0                       0                       0   \n",
       "3                         0                       0                       0   \n",
       "4                         0                       0                       0   \n",
       "\n",
       "   rgt_elapsed_days_seg_2  rgt_elapsed_days_seg_3  rgt_elapsed_days_seg_4  \\\n",
       "0                       0                       0                       0   \n",
       "1                       0                       0                       0   \n",
       "2                       0                       0                       0   \n",
       "3                       0                       0                       0   \n",
       "4                       0                       0                       0   \n",
       "\n",
       "   rgt_elapsed_days_seg_5  cate_main_buy__0  cate_main_buy__1  \\\n",
       "0                       1                 0                 0   \n",
       "1                       1                 0                 0   \n",
       "2                       1                 0                 0   \n",
       "3                       1                 0                 0   \n",
       "4                       1                 0                 0   \n",
       "\n",
       "   cate_main_buy__2  cate_main_buy__3  cate_main_buy__4  cate_main_buy__5  \\\n",
       "0                 0                 1                 0                 0   \n",
       "1                 0                 0                 0                 0   \n",
       "2                 0                 0                 0                 0   \n",
       "3                 1                 0                 0                 0   \n",
       "4                 0                 1                 0                 0   \n",
       "\n",
       "   cate_main_buy__6  cate_main_buy__7  cate_main_buy__8  cate_main_buy__9  \\\n",
       "0                 0                 0                 0                 0   \n",
       "1                 0                 0                 0                 0   \n",
       "2                 0                 0                 0                 0   \n",
       "3                 0                 0                 0                 0   \n",
       "4                 0                 0                 0                 0   \n",
       "\n",
       "   cate_main_buy__10  cate_main_buy__11  text_mail_wemakepay_bool_0  \\\n",
       "0                  0                  0                           1   \n",
       "1                  0                  1                           1   \n",
       "2                  0                  1                           1   \n",
       "3                  0                  0                           1   \n",
       "4                  0                  0                           1   \n",
       "\n",
       "   text_mail_wemakepay_bool_1  birth_10  birth_20  birth_30  birth_40  \\\n",
       "0                           0         0         0         1         0   \n",
       "1                           0         0         0         1         0   \n",
       "2                           0         0         0         0         1   \n",
       "3                           0         0         0         1         0   \n",
       "4                           0         0         0         0         0   \n",
       "\n",
       "   birth_50  birth_60  birth_80  ad_uv_yn_0  ad_uv_yn_1  \n",
       "0         0         0         0           0           1  \n",
       "1         0         0         0           0           1  \n",
       "2         0         0         0           0           1  \n",
       "3         0         0         0           0           1  \n",
       "4         0         0         1           0           1  "
      ]
     },
     "execution_count": 38,
     "metadata": {},
     "output_type": "execute_result"
    }
   ],
   "source": [
    "### category OHE 이렇게 하면 된다~~!\n",
    "pd.get_dummies(data[cate_features].astype('category')).head()"
   ]
  },
  {
   "cell_type": "markdown",
   "metadata": {},
   "source": [
    "---"
   ]
  },
  {
   "cell_type": "code",
   "execution_count": 26,
   "metadata": {},
   "outputs": [],
   "source": [
    "numerical_features = list(set(used_features) - set(cate_features) - set(['cont_group', 'result_buy_yn']))"
   ]
  },
  {
   "cell_type": "code",
   "execution_count": 27,
   "metadata": {},
   "outputs": [
    {
     "name": "stdout",
     "output_type": "stream",
     "text": [
      "buy_amount_avg\n",
      "cate_rate\n",
      "dt_cnt_last_buy\n",
      "buy_amount\n",
      "coupon_use_rate\n",
      "buy_cnt_payment\n",
      "download_coupon_cnt\n",
      "cart_buy_cnt\n",
      "wmp_stay_avg\n",
      "dt_cnt_last_visit\n",
      "buy_period\n",
      "wmp_pick_click\n",
      "buy_cnt_payment_3day\n",
      "buy_amount_3day\n",
      "click_cnt\n",
      "buy_amount_avg_all\n",
      "ratio_spc\n",
      "search_cnt\n",
      "refund_rate\n",
      "text_mail_wemakepay\n",
      "cart_cnt\n",
      "uv_cnt\n",
      "cart_category_cnt\n",
      "buy_cnt_date\n",
      "buying_trend\n",
      "rgt_elapsed_days\n",
      "wmp_freq\n",
      "cate_buy_cnt\n"
     ]
    }
   ],
   "source": [
    "for numerical in numerical_features: # 순서 뒤죽박죽이다 -> 아래와 같이 순서정리\n",
    "    print(numerical)"
   ]
  },
  {
   "cell_type": "code",
   "execution_count": 28,
   "metadata": {},
   "outputs": [],
   "source": [
    "# 순서 정리\n",
    "numerical_features = [\n",
    "    \n",
    "    'buy_period',\n",
    "    'buy_cnt_date',\n",
    "    'buy_cnt_payment',\n",
    "    'buy_amount',\n",
    "    'buying_trend',\n",
    "    'cate_buy_cnt',\n",
    "    'cate_rate',\n",
    "    'coupon_use_rate',\n",
    "    'buy_amount_3day',\n",
    "    'buy_cnt_payment_3day',\n",
    "    'buy_amount_avg',\n",
    "    'dt_cnt_last_visit',\n",
    "    'dt_cnt_last_buy',\n",
    "    'ratio_spc',\n",
    "    'refund_rate',\n",
    "    'wmp_freq',\n",
    "    'wmp_stay_avg',\n",
    "    'wmp_pick_click',\n",
    "    'rgt_elapsed_days',\n",
    "    'buy_amount_avg_all',\n",
    "    'text_mail_wemakepay',\n",
    "    \n",
    "    'click_cnt',\n",
    "    'search_cnt',\n",
    "    'download_coupon_cnt',\n",
    "    'cart_cnt',\n",
    "    'cart_buy_cnt',\n",
    "    'cart_category_cnt',\n",
    "    'uv_cnt'\n",
    "]"
   ]
  },
  {
   "cell_type": "code",
   "execution_count": 29,
   "metadata": {},
   "outputs": [
    {
     "data": {
      "text/plain": [
       "28"
      ]
     },
     "execution_count": 29,
     "metadata": {},
     "output_type": "execute_result"
    }
   ],
   "source": [
    "len(numerical_features)"
   ]
  },
  {
   "cell_type": "code",
   "execution_count": 43,
   "metadata": {},
   "outputs": [
    {
     "data": {
      "text/html": [
       "<div>\n",
       "<style scoped>\n",
       "    .dataframe tbody tr th:only-of-type {\n",
       "        vertical-align: middle;\n",
       "    }\n",
       "\n",
       "    .dataframe tbody tr th {\n",
       "        vertical-align: top;\n",
       "    }\n",
       "\n",
       "    .dataframe thead th {\n",
       "        text-align: right;\n",
       "    }\n",
       "</style>\n",
       "<table border=\"1\" class=\"dataframe\">\n",
       "  <thead>\n",
       "    <tr style=\"text-align: right;\">\n",
       "      <th></th>\n",
       "      <th>count</th>\n",
       "      <th>mean</th>\n",
       "      <th>std</th>\n",
       "      <th>min</th>\n",
       "      <th>25%</th>\n",
       "      <th>50%</th>\n",
       "      <th>75%</th>\n",
       "      <th>max</th>\n",
       "    </tr>\n",
       "  </thead>\n",
       "  <tbody>\n",
       "    <tr>\n",
       "      <th>buy_period</th>\n",
       "      <td>419554.0</td>\n",
       "      <td>3.326618e+01</td>\n",
       "      <td>4.221192e+01</td>\n",
       "      <td>1.0</td>\n",
       "      <td>10.0000</td>\n",
       "      <td>19.000000</td>\n",
       "      <td>3.778731e+01</td>\n",
       "      <td>364.0</td>\n",
       "    </tr>\n",
       "    <tr>\n",
       "      <th>buy_cnt_date</th>\n",
       "      <td>419554.0</td>\n",
       "      <td>2.118154e+01</td>\n",
       "      <td>1.907541e+01</td>\n",
       "      <td>1.0</td>\n",
       "      <td>6.0000</td>\n",
       "      <td>16.000000</td>\n",
       "      <td>3.100000e+01</td>\n",
       "      <td>222.0</td>\n",
       "    </tr>\n",
       "    <tr>\n",
       "      <th>buy_cnt_payment</th>\n",
       "      <td>419554.0</td>\n",
       "      <td>2.690806e+01</td>\n",
       "      <td>2.687837e+01</td>\n",
       "      <td>1.0</td>\n",
       "      <td>7.0000</td>\n",
       "      <td>19.000000</td>\n",
       "      <td>3.900000e+01</td>\n",
       "      <td>1253.0</td>\n",
       "    </tr>\n",
       "    <tr>\n",
       "      <th>buy_amount</th>\n",
       "      <td>419554.0</td>\n",
       "      <td>1.053257e+06</td>\n",
       "      <td>1.337770e+06</td>\n",
       "      <td>100.0</td>\n",
       "      <td>268050.0000</td>\n",
       "      <td>688370.000000</td>\n",
       "      <td>1.416026e+06</td>\n",
       "      <td>171522300.0</td>\n",
       "    </tr>\n",
       "    <tr>\n",
       "      <th>buying_trend</th>\n",
       "      <td>419554.0</td>\n",
       "      <td>4.851937e-01</td>\n",
       "      <td>3.320033e+01</td>\n",
       "      <td>-362.0</td>\n",
       "      <td>-1.0000</td>\n",
       "      <td>0.000000</td>\n",
       "      <td>1.000000e+00</td>\n",
       "      <td>362.0</td>\n",
       "    </tr>\n",
       "    <tr>\n",
       "      <th>cate_buy_cnt</th>\n",
       "      <td>419554.0</td>\n",
       "      <td>4.124106e+00</td>\n",
       "      <td>4.109207e+00</td>\n",
       "      <td>0.0</td>\n",
       "      <td>2.0000</td>\n",
       "      <td>3.000000</td>\n",
       "      <td>5.000000e+00</td>\n",
       "      <td>222.0</td>\n",
       "    </tr>\n",
       "    <tr>\n",
       "      <th>cate_rate</th>\n",
       "      <td>419554.0</td>\n",
       "      <td>3.747969e+01</td>\n",
       "      <td>2.495221e+01</td>\n",
       "      <td>0.0</td>\n",
       "      <td>20.0000</td>\n",
       "      <td>29.000000</td>\n",
       "      <td>5.000000e+01</td>\n",
       "      <td>100.0</td>\n",
       "    </tr>\n",
       "    <tr>\n",
       "      <th>coupon_use_rate</th>\n",
       "      <td>419554.0</td>\n",
       "      <td>5.373857e+01</td>\n",
       "      <td>2.530648e+01</td>\n",
       "      <td>0.0</td>\n",
       "      <td>37.0000</td>\n",
       "      <td>53.000000</td>\n",
       "      <td>7.000000e+01</td>\n",
       "      <td>100.0</td>\n",
       "    </tr>\n",
       "    <tr>\n",
       "      <th>buy_amount_3day</th>\n",
       "      <td>419554.0</td>\n",
       "      <td>6.291297e+04</td>\n",
       "      <td>1.592648e+05</td>\n",
       "      <td>1.0</td>\n",
       "      <td>15900.0000</td>\n",
       "      <td>31400.000000</td>\n",
       "      <td>6.190000e+04</td>\n",
       "      <td>32941700.0</td>\n",
       "    </tr>\n",
       "    <tr>\n",
       "      <th>buy_cnt_payment_3day</th>\n",
       "      <td>419554.0</td>\n",
       "      <td>1.327567e+00</td>\n",
       "      <td>7.003691e-01</td>\n",
       "      <td>1.0</td>\n",
       "      <td>1.0000</td>\n",
       "      <td>1.000000</td>\n",
       "      <td>1.000000e+00</td>\n",
       "      <td>12.0</td>\n",
       "    </tr>\n",
       "    <tr>\n",
       "      <th>buy_amount_avg</th>\n",
       "      <td>419554.0</td>\n",
       "      <td>4.705444e+04</td>\n",
       "      <td>9.195144e+04</td>\n",
       "      <td>0.0</td>\n",
       "      <td>21647.0000</td>\n",
       "      <td>31673.000000</td>\n",
       "      <td>4.727600e+04</td>\n",
       "      <td>28578350.0</td>\n",
       "    </tr>\n",
       "    <tr>\n",
       "      <th>dt_cnt_last_visit</th>\n",
       "      <td>419554.0</td>\n",
       "      <td>3.404657e+01</td>\n",
       "      <td>1.223501e+02</td>\n",
       "      <td>-1.0</td>\n",
       "      <td>2.0000</td>\n",
       "      <td>3.000000</td>\n",
       "      <td>1.000000e+01</td>\n",
       "      <td>1295.0</td>\n",
       "    </tr>\n",
       "    <tr>\n",
       "      <th>dt_cnt_last_buy</th>\n",
       "      <td>419554.0</td>\n",
       "      <td>6.788502e+01</td>\n",
       "      <td>1.887506e+02</td>\n",
       "      <td>-1.0</td>\n",
       "      <td>6.0000</td>\n",
       "      <td>12.000000</td>\n",
       "      <td>4.300000e+01</td>\n",
       "      <td>3322.0</td>\n",
       "    </tr>\n",
       "    <tr>\n",
       "      <th>ratio_spc</th>\n",
       "      <td>419554.0</td>\n",
       "      <td>3.957929e-01</td>\n",
       "      <td>3.274502e-01</td>\n",
       "      <td>0.0</td>\n",
       "      <td>0.0000</td>\n",
       "      <td>0.400000</td>\n",
       "      <td>7.000000e-01</td>\n",
       "      <td>1.0</td>\n",
       "    </tr>\n",
       "    <tr>\n",
       "      <th>refund_rate</th>\n",
       "      <td>419554.0</td>\n",
       "      <td>9.458191e+00</td>\n",
       "      <td>1.173067e+01</td>\n",
       "      <td>0.0</td>\n",
       "      <td>0.0000</td>\n",
       "      <td>6.000000</td>\n",
       "      <td>1.400000e+01</td>\n",
       "      <td>200.0</td>\n",
       "    </tr>\n",
       "    <tr>\n",
       "      <th>wmp_freq</th>\n",
       "      <td>419554.0</td>\n",
       "      <td>1.746096e+01</td>\n",
       "      <td>1.874883e+01</td>\n",
       "      <td>1.0</td>\n",
       "      <td>5.0000</td>\n",
       "      <td>11.000000</td>\n",
       "      <td>2.400000e+01</td>\n",
       "      <td>683.0</td>\n",
       "    </tr>\n",
       "    <tr>\n",
       "      <th>wmp_stay_avg</th>\n",
       "      <td>419554.0</td>\n",
       "      <td>6.156795e+00</td>\n",
       "      <td>5.970338e+00</td>\n",
       "      <td>0.0</td>\n",
       "      <td>3.0000</td>\n",
       "      <td>5.000000</td>\n",
       "      <td>8.000000e+00</td>\n",
       "      <td>206.0</td>\n",
       "    </tr>\n",
       "    <tr>\n",
       "      <th>wmp_pick_click</th>\n",
       "      <td>419554.0</td>\n",
       "      <td>1.923285e+00</td>\n",
       "      <td>3.657888e+00</td>\n",
       "      <td>0.0</td>\n",
       "      <td>0.0000</td>\n",
       "      <td>0.000000</td>\n",
       "      <td>2.000000e+00</td>\n",
       "      <td>309.0</td>\n",
       "    </tr>\n",
       "    <tr>\n",
       "      <th>rgt_elapsed_days</th>\n",
       "      <td>419554.0</td>\n",
       "      <td>1.920926e+03</td>\n",
       "      <td>8.391809e+02</td>\n",
       "      <td>1.0</td>\n",
       "      <td>1396.0000</td>\n",
       "      <td>2079.000000</td>\n",
       "      <td>2.506000e+03</td>\n",
       "      <td>3332.0</td>\n",
       "    </tr>\n",
       "    <tr>\n",
       "      <th>buy_amount_avg_all</th>\n",
       "      <td>419554.0</td>\n",
       "      <td>6.142711e+04</td>\n",
       "      <td>1.109488e+05</td>\n",
       "      <td>100.0</td>\n",
       "      <td>28001.6875</td>\n",
       "      <td>40583.404372</td>\n",
       "      <td>6.150000e+04</td>\n",
       "      <td>28587050.0</td>\n",
       "    </tr>\n",
       "    <tr>\n",
       "      <th>text_mail_wemakepay</th>\n",
       "      <td>419554.0</td>\n",
       "      <td>1.398852e+00</td>\n",
       "      <td>8.944214e-01</td>\n",
       "      <td>0.0</td>\n",
       "      <td>1.0000</td>\n",
       "      <td>2.000000</td>\n",
       "      <td>2.000000e+00</td>\n",
       "      <td>3.0</td>\n",
       "    </tr>\n",
       "    <tr>\n",
       "      <th>click_cnt</th>\n",
       "      <td>419554.0</td>\n",
       "      <td>8.282475e+01</td>\n",
       "      <td>8.063468e+01</td>\n",
       "      <td>0.0</td>\n",
       "      <td>17.0000</td>\n",
       "      <td>55.000000</td>\n",
       "      <td>1.290000e+02</td>\n",
       "      <td>365.0</td>\n",
       "    </tr>\n",
       "    <tr>\n",
       "      <th>search_cnt</th>\n",
       "      <td>419554.0</td>\n",
       "      <td>4.820572e+01</td>\n",
       "      <td>4.997042e+01</td>\n",
       "      <td>0.0</td>\n",
       "      <td>7.0000</td>\n",
       "      <td>32.000000</td>\n",
       "      <td>7.400000e+01</td>\n",
       "      <td>364.0</td>\n",
       "    </tr>\n",
       "    <tr>\n",
       "      <th>download_coupon_cnt</th>\n",
       "      <td>419554.0</td>\n",
       "      <td>5.703766e+00</td>\n",
       "      <td>8.353694e+00</td>\n",
       "      <td>0.0</td>\n",
       "      <td>0.0000</td>\n",
       "      <td>3.000000</td>\n",
       "      <td>8.000000e+00</td>\n",
       "      <td>88.0</td>\n",
       "    </tr>\n",
       "    <tr>\n",
       "      <th>cart_cnt</th>\n",
       "      <td>419554.0</td>\n",
       "      <td>2.230936e+01</td>\n",
       "      <td>3.030303e+01</td>\n",
       "      <td>0.0</td>\n",
       "      <td>2.0000</td>\n",
       "      <td>10.000000</td>\n",
       "      <td>3.100000e+01</td>\n",
       "      <td>419.0</td>\n",
       "    </tr>\n",
       "    <tr>\n",
       "      <th>cart_buy_cnt</th>\n",
       "      <td>419554.0</td>\n",
       "      <td>1.566958e+01</td>\n",
       "      <td>1.379165e+01</td>\n",
       "      <td>0.0</td>\n",
       "      <td>5.0000</td>\n",
       "      <td>12.000000</td>\n",
       "      <td>2.200000e+01</td>\n",
       "      <td>292.0</td>\n",
       "    </tr>\n",
       "    <tr>\n",
       "      <th>cart_category_cnt</th>\n",
       "      <td>419554.0</td>\n",
       "      <td>5.555721e+00</td>\n",
       "      <td>4.155784e+00</td>\n",
       "      <td>0.0</td>\n",
       "      <td>2.0000</td>\n",
       "      <td>5.000000</td>\n",
       "      <td>9.000000e+00</td>\n",
       "      <td>24.0</td>\n",
       "    </tr>\n",
       "    <tr>\n",
       "      <th>uv_cnt</th>\n",
       "      <td>419554.0</td>\n",
       "      <td>1.595525e+01</td>\n",
       "      <td>1.787052e+01</td>\n",
       "      <td>0.0</td>\n",
       "      <td>3.0000</td>\n",
       "      <td>10.000000</td>\n",
       "      <td>2.200000e+01</td>\n",
       "      <td>166.0</td>\n",
       "    </tr>\n",
       "  </tbody>\n",
       "</table>\n",
       "</div>"
      ],
      "text/plain": [
       "                         count          mean           std    min  \\\n",
       "buy_period            419554.0  3.326618e+01  4.221192e+01    1.0   \n",
       "buy_cnt_date          419554.0  2.118154e+01  1.907541e+01    1.0   \n",
       "buy_cnt_payment       419554.0  2.690806e+01  2.687837e+01    1.0   \n",
       "buy_amount            419554.0  1.053257e+06  1.337770e+06  100.0   \n",
       "buying_trend          419554.0  4.851937e-01  3.320033e+01 -362.0   \n",
       "cate_buy_cnt          419554.0  4.124106e+00  4.109207e+00    0.0   \n",
       "cate_rate             419554.0  3.747969e+01  2.495221e+01    0.0   \n",
       "coupon_use_rate       419554.0  5.373857e+01  2.530648e+01    0.0   \n",
       "buy_amount_3day       419554.0  6.291297e+04  1.592648e+05    1.0   \n",
       "buy_cnt_payment_3day  419554.0  1.327567e+00  7.003691e-01    1.0   \n",
       "buy_amount_avg        419554.0  4.705444e+04  9.195144e+04    0.0   \n",
       "dt_cnt_last_visit     419554.0  3.404657e+01  1.223501e+02   -1.0   \n",
       "dt_cnt_last_buy       419554.0  6.788502e+01  1.887506e+02   -1.0   \n",
       "ratio_spc             419554.0  3.957929e-01  3.274502e-01    0.0   \n",
       "refund_rate           419554.0  9.458191e+00  1.173067e+01    0.0   \n",
       "wmp_freq              419554.0  1.746096e+01  1.874883e+01    1.0   \n",
       "wmp_stay_avg          419554.0  6.156795e+00  5.970338e+00    0.0   \n",
       "wmp_pick_click        419554.0  1.923285e+00  3.657888e+00    0.0   \n",
       "rgt_elapsed_days      419554.0  1.920926e+03  8.391809e+02    1.0   \n",
       "buy_amount_avg_all    419554.0  6.142711e+04  1.109488e+05  100.0   \n",
       "text_mail_wemakepay   419554.0  1.398852e+00  8.944214e-01    0.0   \n",
       "click_cnt             419554.0  8.282475e+01  8.063468e+01    0.0   \n",
       "search_cnt            419554.0  4.820572e+01  4.997042e+01    0.0   \n",
       "download_coupon_cnt   419554.0  5.703766e+00  8.353694e+00    0.0   \n",
       "cart_cnt              419554.0  2.230936e+01  3.030303e+01    0.0   \n",
       "cart_buy_cnt          419554.0  1.566958e+01  1.379165e+01    0.0   \n",
       "cart_category_cnt     419554.0  5.555721e+00  4.155784e+00    0.0   \n",
       "uv_cnt                419554.0  1.595525e+01  1.787052e+01    0.0   \n",
       "\n",
       "                              25%            50%           75%          max  \n",
       "buy_period                10.0000      19.000000  3.778731e+01        364.0  \n",
       "buy_cnt_date               6.0000      16.000000  3.100000e+01        222.0  \n",
       "buy_cnt_payment            7.0000      19.000000  3.900000e+01       1253.0  \n",
       "buy_amount            268050.0000  688370.000000  1.416026e+06  171522300.0  \n",
       "buying_trend              -1.0000       0.000000  1.000000e+00        362.0  \n",
       "cate_buy_cnt               2.0000       3.000000  5.000000e+00        222.0  \n",
       "cate_rate                 20.0000      29.000000  5.000000e+01        100.0  \n",
       "coupon_use_rate           37.0000      53.000000  7.000000e+01        100.0  \n",
       "buy_amount_3day        15900.0000   31400.000000  6.190000e+04   32941700.0  \n",
       "buy_cnt_payment_3day       1.0000       1.000000  1.000000e+00         12.0  \n",
       "buy_amount_avg         21647.0000   31673.000000  4.727600e+04   28578350.0  \n",
       "dt_cnt_last_visit          2.0000       3.000000  1.000000e+01       1295.0  \n",
       "dt_cnt_last_buy            6.0000      12.000000  4.300000e+01       3322.0  \n",
       "ratio_spc                  0.0000       0.400000  7.000000e-01          1.0  \n",
       "refund_rate                0.0000       6.000000  1.400000e+01        200.0  \n",
       "wmp_freq                   5.0000      11.000000  2.400000e+01        683.0  \n",
       "wmp_stay_avg               3.0000       5.000000  8.000000e+00        206.0  \n",
       "wmp_pick_click             0.0000       0.000000  2.000000e+00        309.0  \n",
       "rgt_elapsed_days        1396.0000    2079.000000  2.506000e+03       3332.0  \n",
       "buy_amount_avg_all     28001.6875   40583.404372  6.150000e+04   28587050.0  \n",
       "text_mail_wemakepay        1.0000       2.000000  2.000000e+00          3.0  \n",
       "click_cnt                 17.0000      55.000000  1.290000e+02        365.0  \n",
       "search_cnt                 7.0000      32.000000  7.400000e+01        364.0  \n",
       "download_coupon_cnt        0.0000       3.000000  8.000000e+00         88.0  \n",
       "cart_cnt                   2.0000      10.000000  3.100000e+01        419.0  \n",
       "cart_buy_cnt               5.0000      12.000000  2.200000e+01        292.0  \n",
       "cart_category_cnt          2.0000       5.000000  9.000000e+00         24.0  \n",
       "uv_cnt                     3.0000      10.000000  2.200000e+01        166.0  "
      ]
     },
     "execution_count": 43,
     "metadata": {},
     "output_type": "execute_result"
    }
   ],
   "source": [
    "data[numerical_features].describe().T"
   ]
  },
  {
   "cell_type": "markdown",
   "metadata": {},
   "source": [
    "---"
   ]
  },
  {
   "cell_type": "code",
   "execution_count": 30,
   "metadata": {},
   "outputs": [],
   "source": [
    "churn_features = ['birth', 'click_cnt', 'search_cnt', 'download_coupon_cnt', 'cart_cnt', 'cart_category_cnt', 'cart_buy_cnt', 'uv_cnt', 'ad_uv_yn']"
   ]
  },
  {
   "cell_type": "code",
   "execution_count": 31,
   "metadata": {},
   "outputs": [
    {
     "data": {
      "text/plain": [
       "9"
      ]
     },
     "execution_count": 31,
     "metadata": {},
     "output_type": "execute_result"
    }
   ],
   "source": [
    "len(churn_features)"
   ]
  },
  {
   "cell_type": "markdown",
   "metadata": {},
   "source": [
    "---"
   ]
  },
  {
   "cell_type": "code",
   "execution_count": 46,
   "metadata": {},
   "outputs": [
    {
     "data": {
      "text/html": [
       "<div>\n",
       "<style scoped>\n",
       "    .dataframe tbody tr th:only-of-type {\n",
       "        vertical-align: middle;\n",
       "    }\n",
       "\n",
       "    .dataframe tbody tr th {\n",
       "        vertical-align: top;\n",
       "    }\n",
       "\n",
       "    .dataframe thead th {\n",
       "        text-align: right;\n",
       "    }\n",
       "</style>\n",
       "<table border=\"1\" class=\"dataframe\">\n",
       "  <thead>\n",
       "    <tr style=\"text-align: right;\">\n",
       "      <th></th>\n",
       "      <th>crm_id</th>\n",
       "      <th>cmpn_nm</th>\n",
       "      <th>m_id</th>\n",
       "      <th>cont_group</th>\n",
       "      <th>start_date</th>\n",
       "      <th>end_date</th>\n",
       "      <th>min_value</th>\n",
       "      <th>max_value</th>\n",
       "      <th>text_yn</th>\n",
       "      <th>push_yn</th>\n",
       "      <th>mail_yn</th>\n",
       "      <th>last_buy_date</th>\n",
       "      <th>result_buy_yn</th>\n",
       "      <th>buy_period</th>\n",
       "      <th>buy_cnt_date</th>\n",
       "      <th>buy_cnt_payment</th>\n",
       "      <th>buy_amount</th>\n",
       "      <th>buying_trend</th>\n",
       "      <th>buying_trend_group</th>\n",
       "      <th>cate_buy_cnt</th>\n",
       "      <th>cate_rate</th>\n",
       "      <th>coupon_use_rate</th>\n",
       "      <th>buy_amount_3day</th>\n",
       "      <th>buy_cnt_payment_3day</th>\n",
       "      <th>buy_ep_yn_3day</th>\n",
       "      <th>buy_amount_avg</th>\n",
       "      <th>visit_gubn</th>\n",
       "      <th>dt_cnt_last_visit</th>\n",
       "      <th>dt_cnt_last_buy</th>\n",
       "      <th>last_buy_seg</th>\n",
       "      <th>last_buy_platform</th>\n",
       "      <th>wmp_pay_yn</th>\n",
       "      <th>ratio_spc</th>\n",
       "      <th>referral_source</th>\n",
       "      <th>referral_flag</th>\n",
       "      <th>refund_rate</th>\n",
       "      <th>wmp_freq</th>\n",
       "      <th>wmp_stay_avg</th>\n",
       "      <th>order_route</th>\n",
       "      <th>wmp_pick_click</th>\n",
       "      <th>rgt_elapsed_days</th>\n",
       "      <th>buy_amount_avg_all</th>\n",
       "      <th>buy_amount_avg_all_seg</th>\n",
       "      <th>rgt_elapsed_days_seg</th>\n",
       "      <th>cate_main_buy_</th>\n",
       "      <th>text_mail_wemakepay</th>\n",
       "      <th>text_mail_wemakepay_bool</th>\n",
       "      <th>birth</th>\n",
       "      <th>click_cnt</th>\n",
       "      <th>search_cnt</th>\n",
       "      <th>download_coupon_cnt</th>\n",
       "      <th>cart_cnt</th>\n",
       "      <th>cart_category_cnt</th>\n",
       "      <th>cart_buy_cnt</th>\n",
       "      <th>uv_cnt</th>\n",
       "      <th>ad_uv_yn</th>\n",
       "    </tr>\n",
       "  </thead>\n",
       "  <tbody>\n",
       "    <tr>\n",
       "      <th>0</th>\n",
       "      <td>33</td>\n",
       "      <td>~3day</td>\n",
       "      <td>1000298</td>\n",
       "      <td>0</td>\n",
       "      <td>2019-11-20</td>\n",
       "      <td>2019-11-20</td>\n",
       "      <td>0</td>\n",
       "      <td>0</td>\n",
       "      <td>1</td>\n",
       "      <td>0</td>\n",
       "      <td>1</td>\n",
       "      <td>2019-11-18</td>\n",
       "      <td>1</td>\n",
       "      <td>6.0</td>\n",
       "      <td>40</td>\n",
       "      <td>58</td>\n",
       "      <td>1122105</td>\n",
       "      <td>0.00000</td>\n",
       "      <td>stable</td>\n",
       "      <td>11.0</td>\n",
       "      <td>35.0</td>\n",
       "      <td>41</td>\n",
       "      <td>69000</td>\n",
       "      <td>3</td>\n",
       "      <td>N</td>\n",
       "      <td>19147.0</td>\n",
       "      <td>O</td>\n",
       "      <td>5.0</td>\n",
       "      <td>6.0</td>\n",
       "      <td>D-2</td>\n",
       "      <td>APP</td>\n",
       "      <td>0</td>\n",
       "      <td>0.9</td>\n",
       "      <td>google</td>\n",
       "      <td>outside</td>\n",
       "      <td>11</td>\n",
       "      <td>16.0</td>\n",
       "      <td>7.0</td>\n",
       "      <td>best</td>\n",
       "      <td>5</td>\n",
       "      <td>3330</td>\n",
       "      <td>28052.625000</td>\n",
       "      <td>1</td>\n",
       "      <td>5</td>\n",
       "      <td>3</td>\n",
       "      <td>2</td>\n",
       "      <td>0</td>\n",
       "      <td>30</td>\n",
       "      <td>169</td>\n",
       "      <td>84</td>\n",
       "      <td>11</td>\n",
       "      <td>60</td>\n",
       "      <td>11</td>\n",
       "      <td>30</td>\n",
       "      <td>55</td>\n",
       "      <td>1</td>\n",
       "    </tr>\n",
       "    <tr>\n",
       "      <th>1</th>\n",
       "      <td>33</td>\n",
       "      <td>~3day</td>\n",
       "      <td>1000347</td>\n",
       "      <td>1</td>\n",
       "      <td>2019-11-14</td>\n",
       "      <td>2019-11-14</td>\n",
       "      <td>30000</td>\n",
       "      <td>5000</td>\n",
       "      <td>1</td>\n",
       "      <td>0</td>\n",
       "      <td>1</td>\n",
       "      <td>2019-11-13</td>\n",
       "      <td>0</td>\n",
       "      <td>178.0</td>\n",
       "      <td>2</td>\n",
       "      <td>2</td>\n",
       "      <td>37400</td>\n",
       "      <td>0.36854</td>\n",
       "      <td>stable</td>\n",
       "      <td>1.0</td>\n",
       "      <td>50.0</td>\n",
       "      <td>50</td>\n",
       "      <td>27500</td>\n",
       "      <td>1</td>\n",
       "      <td>Y</td>\n",
       "      <td>9900.0</td>\n",
       "      <td>R</td>\n",
       "      <td>177.0</td>\n",
       "      <td>178.0</td>\n",
       "      <td>D-1</td>\n",
       "      <td>MWEB</td>\n",
       "      <td>0</td>\n",
       "      <td>0.0</td>\n",
       "      <td>naver</td>\n",
       "      <td>outside</td>\n",
       "      <td>0</td>\n",
       "      <td>5.0</td>\n",
       "      <td>2.0</td>\n",
       "      <td>else</td>\n",
       "      <td>0</td>\n",
       "      <td>3324</td>\n",
       "      <td>18700.000000</td>\n",
       "      <td>1</td>\n",
       "      <td>5</td>\n",
       "      <td>11</td>\n",
       "      <td>2</td>\n",
       "      <td>0</td>\n",
       "      <td>30</td>\n",
       "      <td>6</td>\n",
       "      <td>0</td>\n",
       "      <td>0</td>\n",
       "      <td>1</td>\n",
       "      <td>1</td>\n",
       "      <td>2</td>\n",
       "      <td>4</td>\n",
       "      <td>1</td>\n",
       "    </tr>\n",
       "    <tr>\n",
       "      <th>2</th>\n",
       "      <td>33</td>\n",
       "      <td>~3day</td>\n",
       "      <td>1000571</td>\n",
       "      <td>0</td>\n",
       "      <td>2019-11-14</td>\n",
       "      <td>2019-11-14</td>\n",
       "      <td>0</td>\n",
       "      <td>0</td>\n",
       "      <td>1</td>\n",
       "      <td>1</td>\n",
       "      <td>1</td>\n",
       "      <td>2019-11-13</td>\n",
       "      <td>0</td>\n",
       "      <td>36.0</td>\n",
       "      <td>11</td>\n",
       "      <td>15</td>\n",
       "      <td>240412</td>\n",
       "      <td>-2.00000</td>\n",
       "      <td>long</td>\n",
       "      <td>1.0</td>\n",
       "      <td>20.0</td>\n",
       "      <td>20</td>\n",
       "      <td>11800</td>\n",
       "      <td>1</td>\n",
       "      <td>N</td>\n",
       "      <td>16329.0</td>\n",
       "      <td>O</td>\n",
       "      <td>6.0</td>\n",
       "      <td>36.0</td>\n",
       "      <td>D-1</td>\n",
       "      <td>APP</td>\n",
       "      <td>0</td>\n",
       "      <td>0.2</td>\n",
       "      <td>app_push</td>\n",
       "      <td>inside</td>\n",
       "      <td>0</td>\n",
       "      <td>3.0</td>\n",
       "      <td>3.0</td>\n",
       "      <td>else</td>\n",
       "      <td>0</td>\n",
       "      <td>3324</td>\n",
       "      <td>21855.636364</td>\n",
       "      <td>1</td>\n",
       "      <td>5</td>\n",
       "      <td>11</td>\n",
       "      <td>2</td>\n",
       "      <td>0</td>\n",
       "      <td>40</td>\n",
       "      <td>38</td>\n",
       "      <td>22</td>\n",
       "      <td>2</td>\n",
       "      <td>1</td>\n",
       "      <td>1</td>\n",
       "      <td>4</td>\n",
       "      <td>3</td>\n",
       "      <td>1</td>\n",
       "    </tr>\n",
       "    <tr>\n",
       "      <th>3</th>\n",
       "      <td>33</td>\n",
       "      <td>~3day</td>\n",
       "      <td>1001894</td>\n",
       "      <td>1</td>\n",
       "      <td>2019-11-11</td>\n",
       "      <td>2019-11-11</td>\n",
       "      <td>30000</td>\n",
       "      <td>5000</td>\n",
       "      <td>1</td>\n",
       "      <td>0</td>\n",
       "      <td>1</td>\n",
       "      <td>2019-11-08</td>\n",
       "      <td>0</td>\n",
       "      <td>70.0</td>\n",
       "      <td>6</td>\n",
       "      <td>8</td>\n",
       "      <td>90100</td>\n",
       "      <td>24.00000</td>\n",
       "      <td>short</td>\n",
       "      <td>3.0</td>\n",
       "      <td>60.0</td>\n",
       "      <td>38</td>\n",
       "      <td>5000</td>\n",
       "      <td>1</td>\n",
       "      <td>N</td>\n",
       "      <td>12157.0</td>\n",
       "      <td>O</td>\n",
       "      <td>7.0</td>\n",
       "      <td>7.0</td>\n",
       "      <td>D-3</td>\n",
       "      <td>APP</td>\n",
       "      <td>0</td>\n",
       "      <td>1.0</td>\n",
       "      <td>(direct)</td>\n",
       "      <td>direct</td>\n",
       "      <td>33</td>\n",
       "      <td>6.0</td>\n",
       "      <td>0.0</td>\n",
       "      <td>else</td>\n",
       "      <td>1</td>\n",
       "      <td>3321</td>\n",
       "      <td>15016.666667</td>\n",
       "      <td>1</td>\n",
       "      <td>5</td>\n",
       "      <td>2</td>\n",
       "      <td>2</td>\n",
       "      <td>0</td>\n",
       "      <td>30</td>\n",
       "      <td>45</td>\n",
       "      <td>25</td>\n",
       "      <td>1</td>\n",
       "      <td>6</td>\n",
       "      <td>6</td>\n",
       "      <td>5</td>\n",
       "      <td>10</td>\n",
       "      <td>1</td>\n",
       "    </tr>\n",
       "    <tr>\n",
       "      <th>4</th>\n",
       "      <td>33</td>\n",
       "      <td>~3day</td>\n",
       "      <td>1002503</td>\n",
       "      <td>1</td>\n",
       "      <td>2019-11-12</td>\n",
       "      <td>2019-11-12</td>\n",
       "      <td>30000</td>\n",
       "      <td>5000</td>\n",
       "      <td>1</td>\n",
       "      <td>0</td>\n",
       "      <td>1</td>\n",
       "      <td>2019-11-11</td>\n",
       "      <td>0</td>\n",
       "      <td>7.0</td>\n",
       "      <td>49</td>\n",
       "      <td>69</td>\n",
       "      <td>1090116</td>\n",
       "      <td>0.00000</td>\n",
       "      <td>stable</td>\n",
       "      <td>18.0</td>\n",
       "      <td>40.0</td>\n",
       "      <td>17</td>\n",
       "      <td>18700</td>\n",
       "      <td>2</td>\n",
       "      <td>N</td>\n",
       "      <td>15991.0</td>\n",
       "      <td>O</td>\n",
       "      <td>2.0</td>\n",
       "      <td>31.0</td>\n",
       "      <td>D-1</td>\n",
       "      <td>PC</td>\n",
       "      <td>0</td>\n",
       "      <td>0.8</td>\n",
       "      <td>TypeB_C</td>\n",
       "      <td>outside</td>\n",
       "      <td>7</td>\n",
       "      <td>31.0</td>\n",
       "      <td>3.0</td>\n",
       "      <td>special</td>\n",
       "      <td>0</td>\n",
       "      <td>3322</td>\n",
       "      <td>22247.265306</td>\n",
       "      <td>1</td>\n",
       "      <td>5</td>\n",
       "      <td>3</td>\n",
       "      <td>2</td>\n",
       "      <td>0</td>\n",
       "      <td>80</td>\n",
       "      <td>122</td>\n",
       "      <td>50</td>\n",
       "      <td>16</td>\n",
       "      <td>112</td>\n",
       "      <td>11</td>\n",
       "      <td>42</td>\n",
       "      <td>56</td>\n",
       "      <td>1</td>\n",
       "    </tr>\n",
       "  </tbody>\n",
       "</table>\n",
       "</div>"
      ],
      "text/plain": [
       "   crm_id cmpn_nm     m_id  cont_group  start_date    end_date  min_value  \\\n",
       "0      33   ~3day  1000298           0  2019-11-20  2019-11-20          0   \n",
       "1      33   ~3day  1000347           1  2019-11-14  2019-11-14      30000   \n",
       "2      33   ~3day  1000571           0  2019-11-14  2019-11-14          0   \n",
       "3      33   ~3day  1001894           1  2019-11-11  2019-11-11      30000   \n",
       "4      33   ~3day  1002503           1  2019-11-12  2019-11-12      30000   \n",
       "\n",
       "   max_value  text_yn  push_yn  mail_yn last_buy_date  result_buy_yn  \\\n",
       "0          0        1        0        1    2019-11-18              1   \n",
       "1       5000        1        0        1    2019-11-13              0   \n",
       "2          0        1        1        1    2019-11-13              0   \n",
       "3       5000        1        0        1    2019-11-08              0   \n",
       "4       5000        1        0        1    2019-11-11              0   \n",
       "\n",
       "   buy_period  buy_cnt_date  buy_cnt_payment  buy_amount  buying_trend  \\\n",
       "0         6.0            40               58     1122105       0.00000   \n",
       "1       178.0             2                2       37400       0.36854   \n",
       "2        36.0            11               15      240412      -2.00000   \n",
       "3        70.0             6                8       90100      24.00000   \n",
       "4         7.0            49               69     1090116       0.00000   \n",
       "\n",
       "  buying_trend_group  cate_buy_cnt  cate_rate  coupon_use_rate  \\\n",
       "0             stable          11.0       35.0               41   \n",
       "1             stable           1.0       50.0               50   \n",
       "2               long           1.0       20.0               20   \n",
       "3              short           3.0       60.0               38   \n",
       "4             stable          18.0       40.0               17   \n",
       "\n",
       "   buy_amount_3day  buy_cnt_payment_3day buy_ep_yn_3day  buy_amount_avg  \\\n",
       "0            69000                     3              N         19147.0   \n",
       "1            27500                     1              Y          9900.0   \n",
       "2            11800                     1              N         16329.0   \n",
       "3             5000                     1              N         12157.0   \n",
       "4            18700                     2              N         15991.0   \n",
       "\n",
       "  visit_gubn  dt_cnt_last_visit  dt_cnt_last_buy last_buy_seg  \\\n",
       "0          O                5.0              6.0          D-2   \n",
       "1          R              177.0            178.0          D-1   \n",
       "2          O                6.0             36.0          D-1   \n",
       "3          O                7.0              7.0          D-3   \n",
       "4          O                2.0             31.0          D-1   \n",
       "\n",
       "  last_buy_platform  wmp_pay_yn  ratio_spc referral_source referral_flag  \\\n",
       "0               APP           0        0.9          google       outside   \n",
       "1              MWEB           0        0.0           naver       outside   \n",
       "2               APP           0        0.2        app_push        inside   \n",
       "3               APP           0        1.0        (direct)        direct   \n",
       "4                PC           0        0.8         TypeB_C       outside   \n",
       "\n",
       "   refund_rate  wmp_freq  wmp_stay_avg order_route  wmp_pick_click  \\\n",
       "0           11      16.0           7.0        best               5   \n",
       "1            0       5.0           2.0        else               0   \n",
       "2            0       3.0           3.0        else               0   \n",
       "3           33       6.0           0.0        else               1   \n",
       "4            7      31.0           3.0     special               0   \n",
       "\n",
       "   rgt_elapsed_days  buy_amount_avg_all  buy_amount_avg_all_seg  \\\n",
       "0              3330        28052.625000                       1   \n",
       "1              3324        18700.000000                       1   \n",
       "2              3324        21855.636364                       1   \n",
       "3              3321        15016.666667                       1   \n",
       "4              3322        22247.265306                       1   \n",
       "\n",
       "   rgt_elapsed_days_seg  cate_main_buy_  text_mail_wemakepay  \\\n",
       "0                     5               3                    2   \n",
       "1                     5              11                    2   \n",
       "2                     5              11                    2   \n",
       "3                     5               2                    2   \n",
       "4                     5               3                    2   \n",
       "\n",
       "   text_mail_wemakepay_bool  birth  click_cnt  search_cnt  \\\n",
       "0                         0     30        169          84   \n",
       "1                         0     30          6           0   \n",
       "2                         0     40         38          22   \n",
       "3                         0     30         45          25   \n",
       "4                         0     80        122          50   \n",
       "\n",
       "   download_coupon_cnt  cart_cnt  cart_category_cnt  cart_buy_cnt  uv_cnt  \\\n",
       "0                   11        60                 11            30      55   \n",
       "1                    0         1                  1             2       4   \n",
       "2                    2         1                  1             4       3   \n",
       "3                    1         6                  6             5      10   \n",
       "4                   16       112                 11            42      56   \n",
       "\n",
       "   ad_uv_yn  \n",
       "0         1  \n",
       "1         1  \n",
       "2         1  \n",
       "3         1  \n",
       "4         1  "
      ]
     },
     "execution_count": 46,
     "metadata": {},
     "output_type": "execute_result"
    }
   ],
   "source": [
    "data.head()"
   ]
  },
  {
   "cell_type": "code",
   "execution_count": 32,
   "metadata": {},
   "outputs": [],
   "source": [
    "tmp = data[['start_date', 'result_buy_yn', 'cont_group'] + numerical_features].copy()"
   ]
  },
  {
   "cell_type": "code",
   "execution_count": 33,
   "metadata": {},
   "outputs": [
    {
     "data": {
      "text/plain": [
       "(419554, 31)"
      ]
     },
     "execution_count": 33,
     "metadata": {},
     "output_type": "execute_result"
    }
   ],
   "source": [
    "tmp.shape"
   ]
  },
  {
   "cell_type": "code",
   "execution_count": null,
   "metadata": {},
   "outputs": [],
   "source": []
  },
  {
   "cell_type": "markdown",
   "metadata": {},
   "source": [
    "---\n",
    "---"
   ]
  },
  {
   "cell_type": "markdown",
   "metadata": {},
   "source": [
    "# # raw 데이터"
   ]
  },
  {
   "cell_type": "markdown",
   "metadata": {},
   "source": [
    "#### #### 테스트 : 20/21/22일 "
   ]
  },
  {
   "cell_type": "code",
   "execution_count": 36,
   "metadata": {},
   "outputs": [],
   "source": [
    "train_data_20 = tmp[tmp.start_date < '2019-11-20'].drop(columns = ['start_date'])\n",
    "test_data_20 = tmp[tmp.start_date == '2019-11-20'].drop(columns = ['start_date'])"
   ]
  },
  {
   "cell_type": "code",
   "execution_count": 37,
   "metadata": {},
   "outputs": [
    {
     "name": "stdout",
     "output_type": "stream",
     "text": [
      "291644 44299\n"
     ]
    }
   ],
   "source": [
    "print(train_data_20.shape[0], test_data_20.shape[0])"
   ]
  },
  {
   "cell_type": "markdown",
   "metadata": {},
   "source": [
    "---"
   ]
  },
  {
   "cell_type": "code",
   "execution_count": 38,
   "metadata": {},
   "outputs": [],
   "source": [
    "train_data_21 = tmp[tmp.start_date < '2019-11-21'].drop(columns = ['start_date'])\n",
    "test_data_21 = tmp[tmp.start_date == '2019-11-21'].drop(columns = ['start_date'])"
   ]
  },
  {
   "cell_type": "code",
   "execution_count": 39,
   "metadata": {},
   "outputs": [
    {
     "name": "stdout",
     "output_type": "stream",
     "text": [
      "335943 41976\n"
     ]
    }
   ],
   "source": [
    "print(train_data_21.shape[0], test_data_21.shape[0])"
   ]
  },
  {
   "cell_type": "markdown",
   "metadata": {},
   "source": [
    "---"
   ]
  },
  {
   "cell_type": "code",
   "execution_count": 40,
   "metadata": {},
   "outputs": [],
   "source": [
    "train_data_22 = tmp[tmp.start_date < '2019-11-22'].drop(columns = ['start_date'])\n",
    "test_data_22 = tmp[tmp.start_date == '2019-11-22'].drop(columns = ['start_date'])"
   ]
  },
  {
   "cell_type": "code",
   "execution_count": 41,
   "metadata": {},
   "outputs": [
    {
     "name": "stdout",
     "output_type": "stream",
     "text": [
      "377919 41635\n"
     ]
    }
   ],
   "source": [
    "print(train_data_22.shape[0], test_data_22.shape[0])"
   ]
  },
  {
   "cell_type": "markdown",
   "metadata": {},
   "source": [
    "---"
   ]
  },
  {
   "cell_type": "markdown",
   "metadata": {},
   "source": [
    "## step 1. 테스트 20일"
   ]
  },
  {
   "cell_type": "code",
   "execution_count": 42,
   "metadata": {},
   "outputs": [],
   "source": [
    "data_input = ( train_data_20, test_data_20 )"
   ]
  },
  {
   "cell_type": "code",
   "execution_count": 43,
   "metadata": {},
   "outputs": [],
   "source": [
    "# xgboost 모델링\n",
    "up = pylift.TransformedOutcome( data_input , col_treatment='cont_group', col_outcome='result_buy_yn' )"
   ]
  },
  {
   "cell_type": "code",
   "execution_count": 44,
   "metadata": {},
   "outputs": [
    {
     "name": "stdout",
     "output_type": "stream",
     "text": [
      "[01:24:04] WARNING: /workspace/src/objective/regression_obj.cu:152: reg:linear is now deprecated in favor of reg:squarederror.\n"
     ]
    }
   ],
   "source": [
    "up.fit()"
   ]
  },
  {
   "cell_type": "code",
   "execution_count": 45,
   "metadata": {
    "scrolled": false
   },
   "outputs": [
    {
     "data": {
      "text/plain": [
       "<matplotlib.axes._subplots.AxesSubplot at 0x7f132b42d4f0>"
      ]
     },
     "execution_count": 45,
     "metadata": {},
     "output_type": "execute_result"
    },
    {
     "data": {
      "image/png": "[encoded data removed]",
      "text/plain": [
       "<Figure size 1080x720 with 1 Axes>"
      ]
     },
     "metadata": {
      "needs_background": "light"
     },
     "output_type": "display_data"
    }
   ],
   "source": [
    "up.plot() # (random sampling)"
   ]
  },
  {
   "cell_type": "markdown",
   "metadata": {},
   "source": [
    "----"
   ]
  },
  {
   "cell_type": "markdown",
   "metadata": {},
   "source": [
    "## step 2. 테스트 21일"
   ]
  },
  {
   "cell_type": "code",
   "execution_count": 46,
   "metadata": {},
   "outputs": [],
   "source": [
    "data_input = ( train_data_21, test_data_21 )"
   ]
  },
  {
   "cell_type": "code",
   "execution_count": 47,
   "metadata": {},
   "outputs": [],
   "source": [
    "# xgboost 모델링\n",
    "up = pylift.TransformedOutcome( data_input , col_treatment='cont_group', col_outcome='result_buy_yn' )"
   ]
  },
  {
   "cell_type": "code",
   "execution_count": 48,
   "metadata": {},
   "outputs": [
    {
     "name": "stdout",
     "output_type": "stream",
     "text": [
      "[01:27:40] WARNING: /workspace/src/objective/regression_obj.cu:152: reg:linear is now deprecated in favor of reg:squarederror.\n"
     ]
    }
   ],
   "source": [
    "up.fit()"
   ]
  },
  {
   "cell_type": "code",
   "execution_count": 49,
   "metadata": {
    "scrolled": false
   },
   "outputs": [
    {
     "data": {
      "text/plain": [
       "<matplotlib.axes._subplots.AxesSubplot at 0x7f132b40c310>"
      ]
     },
     "execution_count": 49,
     "metadata": {},
     "output_type": "execute_result"
    },
    {
     "data": {
      "image/png": "[encoded data removed]",
      "text/plain": [
       "<Figure size 1080x720 with 1 Axes>"
      ]
     },
     "metadata": {
      "needs_background": "light"
     },
     "output_type": "display_data"
    }
   ],
   "source": [
    "up.plot() # (random sampling)"
   ]
  },
  {
   "cell_type": "code",
   "execution_count": null,
   "metadata": {},
   "outputs": [],
   "source": []
  },
  {
   "cell_type": "markdown",
   "metadata": {},
   "source": [
    "----"
   ]
  },
  {
   "cell_type": "markdown",
   "metadata": {},
   "source": [
    "## step 3. 테스트 22일"
   ]
  },
  {
   "cell_type": "code",
   "execution_count": 50,
   "metadata": {},
   "outputs": [],
   "source": [
    "data_input = ( train_data_22, test_data_22 )"
   ]
  },
  {
   "cell_type": "code",
   "execution_count": 51,
   "metadata": {},
   "outputs": [],
   "source": [
    "# xgboost 모델링\n",
    "up = pylift.TransformedOutcome( data_input , col_treatment='cont_group', col_outcome='result_buy_yn' )"
   ]
  },
  {
   "cell_type": "code",
   "execution_count": 52,
   "metadata": {},
   "outputs": [
    {
     "name": "stdout",
     "output_type": "stream",
     "text": [
      "[01:29:30] WARNING: /workspace/src/objective/regression_obj.cu:152: reg:linear is now deprecated in favor of reg:squarederror.\n"
     ]
    }
   ],
   "source": [
    "up.fit()"
   ]
  },
  {
   "cell_type": "code",
   "execution_count": 53,
   "metadata": {
    "scrolled": false
   },
   "outputs": [
    {
     "data": {
      "text/plain": [
       "<matplotlib.axes._subplots.AxesSubplot at 0x7f12fca9ce80>"
      ]
     },
     "execution_count": 53,
     "metadata": {},
     "output_type": "execute_result"
    },
    {
     "data": {
      "image/png": "[encoded data removed]",
      "text/plain": [
       "<Figure size 1080x720 with 1 Axes>"
      ]
     },
     "metadata": {
      "needs_background": "light"
     },
     "output_type": "display_data"
    }
   ],
   "source": [
    "up.plot() # (random sampling)"
   ]
  },
  {
   "cell_type": "code",
   "execution_count": null,
   "metadata": {},
   "outputs": [],
   "source": []
  },
  {
   "cell_type": "code",
   "execution_count": null,
   "metadata": {},
   "outputs": [],
   "source": []
  },
  {
   "cell_type": "code",
   "execution_count": null,
   "metadata": {},
   "outputs": [],
   "source": []
  }
 ],
 "metadata": {
  "colab": {
   "collapsed_sections": [
    "iBEa21mJrpou",
    "Kt9bBTOarpo6",
    "qTzPWTbwrpo-",
    "dcxfCbFurppQ",
    "eSfq8y9ErppT",
    "BxPbKQC-rppu",
    "C8aJPYLVrppu",
    "yCA-9MW5rpp8",
    "0S2HVKDhrpqH",
    "RpjGI5FIrpqN",
    "5pHtToYVrpqS",
    "nBnaVnCxrpqf",
    "vzA8uaHxrpqt",
    "k5ikhu3Yrpq7",
    "q77v-qUSrprF",
    "ZHBY2Ok9rprP",
    "Wi7GoivOrprW",
    "f2E9CfGhrprk",
    "9k4tOT05rpry",
    "iOBsbhvErpr0",
    "C4ylWGunrpr6",
    "s6CkfDDhrpr8",
    "w9Sf9Nw4rpsA",
    "0Bln9lcErpsB",
    "DOcNpYhyrpsJ",
    "W7Pn2LBDrpsJ",
    "pK6GSgMRrpsP",
    "wG6z6O6ZrpsP",
    "ropVas5ArpsU",
    "Hzw93HO1rpsZ",
    "EOy3mY_NrpsZ",
    "6WjSCOfkrpsg",
    "emOzbJ4trpsl",
    "6s_C0RgFrpsm",
    "Z2u9sBtTrpsw",
    "cgDHkeX0rps0",
    "F6k1Uq35rps0",
    "L8sZGpEZrps3",
    "cabt3u14rps4",
    "gCnjVA9PrptA",
    "OS6Ff0f4rptA",
    "3NJWjEycrptF",
    "-nCzsfWBrptG",
    "81CvohrirptL",
    "C46aYGjBrptR",
    "P87XUd9UrptW",
    "VX66ybSCrptb",
    "Nyh2OgwLrpte",
    "jG1_BN1mrptj",
    "3EZdAiTlrptm",
    "YU7xvgSQrptq",
    "imgmi-S6rptu",
    "V0-t6khqrptx"
   ],
   "name": "step1-4-3_EDA_numerical.ipynb",
   "provenance": []
  },
  "kernelspec": {
   "display_name": "myeonggyulee_jp",
   "language": "python",
   "name": "myeonggyulee_jp"
  },
  "language_info": {
   "codemirror_mode": {
    "name": "ipython",
    "version": 3
   },
   "file_extension": ".py",
   "mimetype": "text/x-python",
   "name": "python",
   "nbconvert_exporter": "python",
   "pygments_lexer": "ipython3",
   "version": "3.8.1"
  }
 },
 "nbformat": 4,
 "nbformat_minor": 4
}
